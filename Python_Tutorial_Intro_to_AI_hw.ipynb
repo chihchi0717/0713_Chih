{
  "nbformat": 4,
  "nbformat_minor": 0,
  "metadata": {
    "colab": {
      "provenance": []
    },
    "kernelspec": {
      "display_name": "Python 3",
      "name": "python3"
    },
    "language_info": {
      "name": "python"
    }
  },
  "cells": [
    {
      "cell_type": "markdown",
      "metadata": {
        "id": "Q_BI5Dpjs4qg"
      },
      "source": [
        "# **Intro:**\n",
        "\n",
        "預設同學都已學過基本程式設計，正式課程開始前的助教課目的是讓不熟悉 python 語法的同學盡快進入狀況。\n",
        "python 的工具、套件相當多元，鼓勵同學作業、研究需要時多多利用網路上的資源。\n",
        "\n",
        "*   助教課目的、作業、考試\n",
        "*   簡介 Colab\n",
        "*   資料容器\n",
        "*   流程控制\n",
        "*   stack & queue\n",
        "*   Random Generator\n",
        "*   自訂函數\n",
        "*   常用套件 numpy, pandas\n",
        "*   (可視化常用工具 matplotlib, 機器學習常用工具 scikit-learn)\n",
        "\n",
        "---\n",
        "\n"
      ]
    },
    {
      "cell_type": "markdown",
      "metadata": {
        "id": "cNPaVuKAMeK8"
      },
      "source": [
        "# **List**\n",
        "\n",
        "List 類似於 C/C++ 中的陣列，然而不同的是 list 會自動動態調整其大小(容量)，且能儲存混合型態的資料。\n",
        "\n",
        "Python List Methods: index(), append(), extend(), insert(), remove(), count(), pop(), reversa(), sort(), copy(), clear()...\n"
      ]
    },
    {
      "cell_type": "code",
      "metadata": {
        "id": "q0IOaBaFMgac",
        "colab": {
          "base_uri": "https://localhost:8080/"
        },
        "outputId": "d41dd4f5-fe03-4c94-e2e2-47330ba15f02"
      },
      "source": [
        "# Simply use [] to initialize a list.\n",
        "# It can hold data of mixed types.\n",
        "a_list = [-2, 666, 3.14, \"Hello\"]\n",
        "print(a_list)"
      ],
      "execution_count": null,
      "outputs": [
        {
          "output_type": "stream",
          "name": "stdout",
          "text": [
            "[-2, 666, 3.14, 'Hello']\n"
          ]
        }
      ]
    },
    {
      "cell_type": "code",
      "metadata": {
        "id": "0m3PkouM85dn",
        "colab": {
          "base_uri": "https://localhost:8080/"
        },
        "outputId": "6eb3f75d-90d6-495f-8a2d-cd83b669374b"
      },
      "source": [
        "# The list object will automatically adjust its size to contain new data.\n",
        "# The `append` method add its argument to the end of the list.\n",
        "a_list.append(\"world\")\n",
        "print(a_list)"
      ],
      "execution_count": null,
      "outputs": [
        {
          "output_type": "stream",
          "name": "stdout",
          "text": [
            "[-2, 666, 3.14, 'Hello', 'world']\n"
          ]
        }
      ]
    },
    {
      "cell_type": "code",
      "metadata": {
        "id": "iVOlo6Ff-fri",
        "colab": {
          "base_uri": "https://localhost:8080/"
        },
        "outputId": "d76b2bbb-1125-43b7-f0ee-63250b478c06"
      },
      "source": [
        "# The insert() method inserts an element to the list at the specified index.\n",
        "# list.insert(index, element)\n",
        "a_list.insert(4, 'lovely')\n",
        "print(a_list)"
      ],
      "execution_count": null,
      "outputs": [
        {
          "output_type": "stream",
          "name": "stdout",
          "text": [
            "[-2, 666, 3.14, 'Hello', 'lovely', 'world']\n"
          ]
        }
      ]
    },
    {
      "cell_type": "code",
      "metadata": {
        "id": "X-2S9K9a_5RQ",
        "colab": {
          "base_uri": "https://localhost:8080/"
        },
        "outputId": "763abec5-2a30-4437-8b59-b30a79cc3227"
      },
      "source": [
        "# The remove() method removes the first matching element (which is passed as an argument) from the list.\n",
        "# list.remove(element)\n",
        "a_list.remove(3.14)\n",
        "print(a_list)\n",
        "\n",
        "# The pop() method removes the item at the given index from the list and returns the removed item.\n",
        "# list.pop(index)\n",
        "a_list.pop(2)\n",
        "print(a_list)"
      ],
      "execution_count": null,
      "outputs": [
        {
          "output_type": "stream",
          "name": "stdout",
          "text": [
            "[-2, 666, 'Hello', 'lovely', 'world']\n",
            "[-2, 666, 'lovely', 'world']\n"
          ]
        }
      ]
    },
    {
      "cell_type": "code",
      "metadata": {
        "id": "7AQGdKXMB7DH",
        "colab": {
          "base_uri": "https://localhost:8080/"
        },
        "outputId": "c7dd07c3-fb0b-44c4-9c51-0b2202bf66ee"
      },
      "source": [
        "# Assigning a list to another variable copies only its reference.\n",
        "b_list = a_list\n",
        "b_list[0] = 100\n",
        "print(\"a_list =\", a_list)\n",
        "print(\"b_list =\", b_list)"
      ],
      "execution_count": null,
      "outputs": [
        {
          "output_type": "stream",
          "name": "stdout",
          "text": [
            "a_list = [100, 666, 3.14, 'Hello']\n",
            "b_list = [100, 666, 3.14, 'Hello']\n"
          ]
        }
      ]
    },
    {
      "cell_type": "code",
      "metadata": {
        "id": "ApZUvNYGB9Z9",
        "colab": {
          "base_uri": "https://localhost:8080/"
        },
        "outputId": "c600dfa4-58e6-4fc9-e87c-0eba9cb50035"
      },
      "source": [
        "# You can call the `copy()` method to duplicate a list.\n",
        "b_list = a_list.copy()\n",
        "b_list[0] = 0\n",
        "print(\"a_list =\", a_list)\n",
        "print(\"b_list =\", b_list)"
      ],
      "execution_count": null,
      "outputs": [
        {
          "output_type": "stream",
          "name": "stdout",
          "text": [
            "a_list = [100, 666, 'lovely', 'world']\n",
            "b_list = [0, 666, 'lovely', 'world']\n"
          ]
        }
      ]
    },
    {
      "cell_type": "code",
      "metadata": {
        "id": "FREODurxCGrf",
        "colab": {
          "base_uri": "https://localhost:8080/"
        },
        "outputId": "f32842b8-5c45-4150-d4ad-3f4a9ed5302c"
      },
      "source": [
        "# You get a slice of a list using index range. The syntax goes as `a_list[begin, end]`.\n",
        "# The `begin` index is included, while the `end` inde  x is excluded.\n",
        "print(\"a_list[1:3] =\", a_list[1:3])"
      ],
      "execution_count": null,
      "outputs": [
        {
          "output_type": "stream",
          "name": "stdout",
          "text": [
            "a_list[1:3] = [666, 'lovely']\n"
          ]
        }
      ]
    },
    {
      "cell_type": "code",
      "metadata": {
        "id": "viOpI9viCNn9",
        "colab": {
          "base_uri": "https://localhost:8080/"
        },
        "outputId": "abec0eda-a387-4536-8107-44d6f1c9d80e"
      },
      "source": [
        "# You can add a list to another simply with the `+` operator.\n",
        "print(\"a_list + b_list[0:2] =\", a_list + b_list[0:2])"
      ],
      "execution_count": null,
      "outputs": [
        {
          "output_type": "stream",
          "name": "stdout",
          "text": [
            "a_list + b_list[0:2] = [100, 666, 'lovely', 'world', 0, 666]\n"
          ]
        }
      ]
    },
    {
      "cell_type": "markdown",
      "metadata": {
        "id": "AZ97UHgyrwFa"
      },
      "source": [
        "重要觀念：list 僅儲存內容物之參考 (reference)，而非物件實例 (instance)。"
      ]
    },
    {
      "cell_type": "code",
      "metadata": {
        "id": "HQtIUn70ro9p",
        "colab": {
          "base_uri": "https://localhost:8080/"
        },
        "outputId": "dd3098c2-6be8-437e-a628-f81530db80ed"
      },
      "source": [
        "# It's important to know that a list holds only the reference of each item.\n",
        "# If you need a copy of data instead of just reference, call the `copy()` method.\n",
        "print(\"** Without making a copy, the original item will be affected. **\")\n",
        "c_list = [1, 2, 3]\n",
        "d_list = ['a', 'b', 'c']\n",
        "e_list = [c_list, d_list]\n",
        "print(\"c_list =\", c_list)\n",
        "print(\"d_list =\", d_list)\n",
        "print(\"e_list =\", e_list)\n",
        "\n",
        "e_list[0][0] = -1\n",
        "print(\"(after changing `e_list`)\")\n",
        "print(\"c_list =\", c_list)\n",
        "print(\"d_list =\", d_list)\n",
        "print(\"e_list =\", e_list)"
      ],
      "execution_count": null,
      "outputs": [
        {
          "output_type": "stream",
          "name": "stdout",
          "text": [
            "** Without making a copy, the original item will be affected. **\n",
            "c_list = [1, 2, 3]\n",
            "d_list = ['a', 'b', 'c']\n",
            "e_list = [[1, 2, 3], ['a', 'b', 'c']]\n",
            "(after changing `e_list`)\n",
            "c_list = [-1, 2, 3]\n",
            "d_list = ['a', 'b', 'c']\n",
            "e_list = [[-1, 2, 3], ['a', 'b', 'c']]\n"
          ]
        }
      ]
    },
    {
      "cell_type": "code",
      "metadata": {
        "id": "X3Ptqlg4kND7",
        "colab": {
          "base_uri": "https://localhost:8080/"
        },
        "outputId": "e0eb657f-4323-403f-ace3-f26bae845ba5"
      },
      "source": [
        "print(\"** With making a copy, the original item won't be changed. **\")\n",
        "c_list = [1, 2, 3]\n",
        "d_list = ['a', 'b', 'c']\n",
        "e_list = [c_list.copy(), d_list.copy()]\n",
        "print(\"c_list =\", c_list)\n",
        "print(\"d_list =\", d_list)\n",
        "print(\"e_list =\", e_list)\n",
        "\n",
        "e_list[0][0] = -1\n",
        "print(\"(after changing `e_list`)\")\n",
        "print(\"c_list =\", c_list)\n",
        "print(\"d_list =\", d_list)\n",
        "print(\"e_list =\", e_list)"
      ],
      "execution_count": null,
      "outputs": [
        {
          "output_type": "stream",
          "name": "stdout",
          "text": [
            "** With making a copy, the original item won't be changed. **\n",
            "c_list = [1, 2, 3]\n",
            "d_list = ['a', 'b', 'c']\n",
            "e_list = [[1, 2, 3], ['a', 'b', 'c']]\n",
            "(after changing `e_list`)\n",
            "c_list = [1, 2, 3]\n",
            "d_list = ['a', 'b', 'c']\n",
            "e_list = [[-1, 2, 3], ['a', 'b', 'c']]\n"
          ]
        }
      ]
    },
    {
      "cell_type": "markdown",
      "metadata": {
        "id": "rY8jEk41Wdgi"
      },
      "source": [
        "## **用 sort() 或 sorted() 來排序項目**\n",
        "* 串列方法 sort() 可**就地**排序串列本身。\n",
        "* 通用函式 sorted() 可回傳排序後的串列**副本**。"
      ]
    },
    {
      "cell_type": "code",
      "metadata": {
        "colab": {
          "base_uri": "https://localhost:8080/"
        },
        "id": "j8fFgPEDYqM-",
        "outputId": "0aa4c02a-02c7-47f4-b563-006600cc13d7"
      },
      "source": [
        "marxes = ['Groucho', 'Chico', 'Harpo']\n",
        "sorted_marxes = sorted(marxes)\n",
        "print(\"sorted_marxes: \", sorted_marxes)\n",
        "print(\"marxes: \", marxes)\n",
        "print(\"----\")\n",
        "\n",
        "marxes.sort()\n",
        "print(\"After marxes.sort()\")\n",
        "print(\"marxes: \", marxes)"
      ],
      "execution_count": null,
      "outputs": [
        {
          "output_type": "stream",
          "name": "stdout",
          "text": [
            "sorted_marxes:  ['Chico', 'Groucho', 'Harpo']\n",
            "marxes:  ['Groucho', 'Chico', 'Harpo']\n",
            "----\n",
            "After marxes.sort()\n",
            "marxes:  ['Chico', 'Groucho', 'Harpo']\n"
          ]
        }
      ]
    },
    {
      "cell_type": "code",
      "metadata": {
        "colab": {
          "base_uri": "https://localhost:8080/"
        },
        "id": "0DDxuATIa9Hk",
        "outputId": "9d5d60ff-ac8a-4053-a822-d12099e813de"
      },
      "source": [
        "numbers = [2, 1, 4.0, 3]\n",
        "numbers.sort()\n",
        "print(numbers)\n",
        "numbers.sort(reverse=True)\n",
        "print(numbers)"
      ],
      "execution_count": null,
      "outputs": [
        {
          "output_type": "stream",
          "name": "stdout",
          "text": [
            "[1, 2, 3, 4.0]\n",
            "[4.0, 3, 2, 1]\n"
          ]
        }
      ]
    },
    {
      "cell_type": "markdown",
      "metadata": {
        "id": "W0kbKQJKMgxy"
      },
      "source": [
        "# **tuple**\n",
        "\n",
        "tuple 是類似於 list 的循序式資料容器，然而 tuple 在初始化後即不能再改變 (immutable)。適合用於儲存非變動長度的資料組。"
      ]
    },
    {
      "cell_type": "code",
      "metadata": {
        "colab": {
          "base_uri": "https://localhost:8080/"
        },
        "id": "UVA5rFLnMjs6",
        "outputId": "dbd48f2c-55ff-4b2e-f699-8ae8a3125167"
      },
      "source": [
        "a_tuple = (1, 2, 3)\n",
        "b_tuple = a_tuple + (4, 5)\n",
        "\n",
        "print(\"a_tuple =\", a_tuple)\n",
        "print(\"b_tuple =\", b_tuple)"
      ],
      "execution_count": null,
      "outputs": [
        {
          "output_type": "stream",
          "name": "stdout",
          "text": [
            "a_tuple = (1, 2, 3)\n",
            "b_tuple = (1, 2, 3, 4, 5)\n"
          ]
        }
      ]
    },
    {
      "cell_type": "markdown",
      "metadata": {
        "id": "guRoO8JoMj-Z"
      },
      "source": [
        "# **dict**\n",
        "\n",
        "dict 可視為 list 的擴充，不僅能以整數作為索引 (index)，還能以字串 (string) 等不可變的 (immutable) 資料型態作為索引。適合用於儲存非序列式存取的資料組。"
      ]
    },
    {
      "cell_type": "code",
      "metadata": {
        "colab": {
          "base_uri": "https://localhost:8080/"
        },
        "id": "T3Iy1i7ZMnTY",
        "outputId": "09e3dac9-e268-43db-bf3f-99c68c0d3850"
      },
      "source": [
        "a_dict = {\n",
        "    \"name\": \"John\",\n",
        "    \"age\": 20,\n",
        "    \"job\": \"engineer\",\n",
        "}\n",
        "print(\"a_dict =\", a_dict)\n",
        "print(\"a_dict['age'] =\", a_dict['age'])\n",
        "print(\"----\")\n",
        "\n",
        "# You can create new key-value pair with simple assignment.\n",
        "a_dict[\"is_adult\"] = True\n",
        "print(\"a_dict =\", a_dict)"
      ],
      "execution_count": null,
      "outputs": [
        {
          "output_type": "stream",
          "name": "stdout",
          "text": [
            "a_dict = {'name': 'John', 'age': 20, 'job': 'engineer'}\n",
            "a_dict['age'] = 20\n",
            "----\n",
            "a_dict = {'name': 'John', 'age': 20, 'job': 'engineer', 'is_adult': True}\n"
          ]
        }
      ]
    },
    {
      "cell_type": "markdown",
      "metadata": {
        "id": "XaGXu3cZMnvw"
      },
      "source": [
        "# **set**\n",
        "\n",
        "set 類似於 list，然而 set 不會重複儲存資料，可確保其內容物的唯一性。適合儲存時常需要檢查重複性的資料組。"
      ]
    },
    {
      "cell_type": "code",
      "metadata": {
        "colab": {
          "base_uri": "https://localhost:8080/"
        },
        "id": "eN9FPAhOMpLj",
        "outputId": "c7b2ec09-1851-41e9-e907-509f47692d5a"
      },
      "source": [
        "a_set = set([1, 2, 3, 4, 5])\n",
        "b_set = set([3, 4, 5, 'a', 'b', 'c'])\n",
        "\n",
        "# check whether something is in a set\n",
        "print(\"Is 'a' in a_set?\", 'a' in a_set)\n",
        "print(\"Is 'a' in b_set?\", 'a' in b_set)\n",
        "print(\"----\")\n",
        "\n",
        "# union of sets, i.e., the items in `a_set` or `b_set`\n",
        "print(\"union: \", a_set.union(b_set))\n",
        "\n",
        "# intersection of sets, i.e., the items in both `a_set` and `b_set`\n",
        "print(\"intersection: \", a_set.intersection(b_set))\n",
        "\n",
        "# difference of sets, i.e., the items in `a_set` not in `b_set`\n",
        "print(\"difference: \", a_set.difference(b_set))\n"
      ],
      "execution_count": null,
      "outputs": [
        {
          "output_type": "stream",
          "name": "stdout",
          "text": [
            "Is 'a' in a_set? False\n",
            "Is 'a' in b_set? True\n",
            "----\n",
            "union:  {'a', 1, 2, 3, 4, 5, 'c', 'b'}\n",
            "intersection:  {3, 4, 5}\n",
            "difference:  {1, 2}\n"
          ]
        }
      ]
    },
    {
      "cell_type": "markdown",
      "metadata": {
        "id": "BJDaFaFpwJe0"
      },
      "source": [
        "# **if, elif, else 條件判斷**\n",
        "* if, elif, else 都是 Python 的陳述式，它們的功能是檢查一個條件。\n",
        "* 注意縮排的使用。\n",
        "* 透過運算子來測試相等性，並回傳 True 或 False。\n",
        "\n",
        "```\n",
        "if condition:\n",
        "    statement1 for True condition\n",
        "else:\n",
        "    statement2 for False condition\n",
        "```\n",
        "\n",
        "\n",
        "---\n",
        "\n",
        "```\n",
        "if condition 1:\n",
        "    statement1 for True Condition1\n",
        "elif condition2:\n",
        "    statement 2 for True Condition2\n",
        "elif condition3:\n",
        "    statement 3 for True Condition3\n",
        "else:\n",
        "    statements for Each Condition False\n",
        "```"
      ]
    },
    {
      "cell_type": "code",
      "metadata": {
        "colab": {
          "base_uri": "https://localhost:8080/"
        },
        "id": "vkwSl3j3vWOJ",
        "outputId": "cbd627b7-d9fe-40c8-b0d6-65e95f574f68"
      },
      "source": [
        "a = 4\n",
        "if a == 3:\n",
        "\tprint('a is 3')\n",
        "else:\n",
        "\tprint('a is not 3')\n",
        "\n",
        "print(\"----\")\n",
        "\n",
        "a = 1\n",
        "b = 2\n",
        "if a > b:\n",
        "\tprint('a is greater')\n",
        "elif a == b:\n",
        "\tprint('a is equal to b')\n",
        "else:\n",
        "\tprint('b is greater')\n"
      ],
      "execution_count": null,
      "outputs": [
        {
          "output_type": "stream",
          "name": "stdout",
          "text": [
            "a is not 3\n",
            "----\n",
            "b is greater\n"
          ]
        }
      ]
    },
    {
      "cell_type": "markdown",
      "metadata": {
        "id": "T5llvP00Ul4a"
      },
      "source": [
        "用 in 來做多項比較"
      ]
    },
    {
      "cell_type": "code",
      "metadata": {
        "colab": {
          "base_uri": "https://localhost:8080/"
        },
        "id": "csYl84ZPUj2L",
        "outputId": "d64b6897-7f28-4038-9b46-312d7f380e49"
      },
      "source": [
        "letter = 'o'\n",
        "vowel_set = {'a', 'e', 'i', 'o', 'u'}\n",
        "letter in vowel_set"
      ],
      "execution_count": null,
      "outputs": [
        {
          "output_type": "execute_result",
          "data": {
            "text/plain": [
              "True"
            ]
          },
          "metadata": {},
          "execution_count": 61
        }
      ]
    },
    {
      "cell_type": "code",
      "metadata": {
        "colab": {
          "base_uri": "https://localhost:8080/"
        },
        "id": "yFmTPjGyVKoD",
        "outputId": "12da33cf-c391-43bc-b489-324dc2519ef9"
      },
      "source": [
        "vowel_list = ['a', 'e', 'i', 'o', 'u']\n",
        "letter in vowel_list"
      ],
      "execution_count": null,
      "outputs": [
        {
          "output_type": "execute_result",
          "data": {
            "text/plain": [
              "True"
            ]
          },
          "metadata": {},
          "execution_count": 62
        }
      ]
    },
    {
      "cell_type": "code",
      "metadata": {
        "colab": {
          "base_uri": "https://localhost:8080/"
        },
        "id": "QXTgQQETVPuL",
        "outputId": "75898fc1-0d7e-4e9e-ea1e-ac9fe9ad21af"
      },
      "source": [
        "vowel_tuple = ('a', 'e', 'i', 'o', 'u')\n",
        "letter in vowel_tuple"
      ],
      "execution_count": null,
      "outputs": [
        {
          "output_type": "execute_result",
          "data": {
            "text/plain": [
              "True"
            ]
          },
          "metadata": {},
          "execution_count": 63
        }
      ]
    },
    {
      "cell_type": "code",
      "metadata": {
        "colab": {
          "base_uri": "https://localhost:8080/"
        },
        "id": "Ux1cNNprVlHC",
        "outputId": "74ea5cb6-d28b-4154-8587-aba69a10f213"
      },
      "source": [
        "vowel_string = \"aeiou\"\n",
        "letter in vowel_string"
      ],
      "execution_count": null,
      "outputs": [
        {
          "output_type": "execute_result",
          "data": {
            "text/plain": [
              "True"
            ]
          },
          "metadata": {},
          "execution_count": 64
        }
      ]
    },
    {
      "cell_type": "markdown",
      "metadata": {
        "id": "HpuyZLQoxRPq"
      },
      "source": [
        "# **for loops**\n",
        "\n",
        "```\n",
        "for i in sequence:\n",
        "  statements\n",
        "```\n",
        "\n"
      ]
    },
    {
      "cell_type": "code",
      "metadata": {
        "colab": {
          "base_uri": "https://localhost:8080/"
        },
        "id": "AfkVYqDaV9Re",
        "outputId": "b8873635-98cc-43ac-d312-05bfe1ccdc52"
      },
      "source": [
        "for x in range(0, 3):\n",
        "  print(x)"
      ],
      "execution_count": null,
      "outputs": [
        {
          "output_type": "stream",
          "name": "stdout",
          "text": [
            "0\n",
            "1\n",
            "2\n"
          ]
        }
      ]
    },
    {
      "cell_type": "code",
      "metadata": {
        "colab": {
          "base_uri": "https://localhost:8080/"
        },
        "id": "dCssXaQ32EA_",
        "outputId": "912da94d-e56f-490b-f821-899a0d9e8b4a"
      },
      "source": [
        "#@title 預設標題文字\n",
        "theBeatles = ['John Lennon', 'Paul McCartney', 'Ringo Starr', 'George Harrison']\n",
        "for i in range(len(theBeatles)):\n",
        "  print(theBeatles[i])\n",
        "print(\"----\")\n",
        "\n",
        "instrument = {'John Lennon': 'vocals', 'Paul McCartney': 'bass', 'Ringo Starr': 'drum', 'George Harrison': 'guitars'}\n",
        "for i, j in instrument.items():\n",
        "  print(i, j)\n",
        "print(\"----\")\n"
      ],
      "execution_count": null,
      "outputs": [
        {
          "output_type": "stream",
          "name": "stdout",
          "text": [
            "John Lennon\n",
            "Paul McCartney\n",
            "Ringo Starr\n",
            "George Harrison\n",
            "----\n",
            "John Lennon vocals\n",
            "Paul McCartney bass\n",
            "Ringo Starr drum\n",
            "George Harrison guitars\n",
            "----\n"
          ]
        }
      ]
    },
    {
      "cell_type": "markdown",
      "metadata": {
        "id": "nqLvN5Rq2q4P"
      },
      "source": [
        "# **while loops**\n",
        "\n",
        "```\n",
        "while test_expression:\n",
        "  body of while\n",
        "```"
      ]
    },
    {
      "cell_type": "code",
      "metadata": {
        "colab": {
          "base_uri": "https://localhost:8080/"
        },
        "id": "aAXtPOia3Y42",
        "outputId": "840f46fd-865a-4285-c62f-cf2289a35611"
      },
      "source": [
        "count = 0\n",
        "while (count < 9):\n",
        "   print('The count is:', count)\n",
        "   count += 1"
      ],
      "execution_count": null,
      "outputs": [
        {
          "output_type": "stream",
          "name": "stdout",
          "text": [
            "The count is: 0\n",
            "The count is: 1\n",
            "The count is: 2\n",
            "The count is: 3\n",
            "The count is: 4\n",
            "The count is: 5\n",
            "The count is: 6\n",
            "The count is: 7\n",
            "The count is: 8\n"
          ]
        }
      ]
    },
    {
      "cell_type": "markdown",
      "metadata": {
        "id": "_NoY9yMaxz6Q"
      },
      "source": [
        "# **Nested loops**\n",
        "Nested loops are useful when for each pass through the outer loop, you need to repeat some action on the data in the outer loop.\n",
        "\n",
        "Ex. handle multi-dimensional cases..."
      ]
    },
    {
      "cell_type": "code",
      "metadata": {
        "colab": {
          "base_uri": "https://localhost:8080/"
        },
        "id": "xkCjCxuK3eGs",
        "outputId": "c9f75e28-ac71-44c8-8b53-0b21de71fcdb"
      },
      "source": [
        "# outer loop\n",
        "# to iterate from 1 to 5\n",
        "for i in range(1, 6):\n",
        "  # inner loop\n",
        "  for j in range(1, 6):\n",
        "    # print multiplication\n",
        "    print(i * j, end=' ')\n",
        "  print()"
      ],
      "execution_count": null,
      "outputs": [
        {
          "output_type": "stream",
          "name": "stdout",
          "text": [
            "1 2 3 4 5 \n",
            "2 4 6 8 10 \n",
            "3 6 9 12 15 \n",
            "4 8 12 16 20 \n",
            "5 10 15 20 25 \n"
          ]
        }
      ]
    },
    {
      "cell_type": "code",
      "metadata": {
        "colab": {
          "base_uri": "https://localhost:8080/"
        },
        "id": "NVNRsHVLWSMT",
        "outputId": "442a7d33-7ad1-4ce4-c46e-6ad4bd95a35f"
      },
      "source": [
        "my_watch = ['Rolex', 'Omega', 'Patek Philippe', 'Richard Mille']\n",
        "# outer loop\n",
        "for watch in my_watch:\n",
        "  # inner while loop\n",
        "  count = 0\n",
        "  while count < 5:\n",
        "    print(watch, end=' ')\n",
        "    # increment counter\n",
        "    count+=1\n",
        "  print()"
      ],
      "execution_count": null,
      "outputs": [
        {
          "output_type": "stream",
          "name": "stdout",
          "text": [
            "Rolex Rolex Rolex Rolex Rolex \n",
            "Omega Omega Omega Omega Omega \n",
            "Patek Philippe Patek Philippe Patek Philippe Patek Philippe Patek Philippe \n",
            "Richard Mille Richard Mille Richard Mille Richard Mille Richard Mille \n"
          ]
        }
      ]
    },
    {
      "cell_type": "markdown",
      "metadata": {
        "id": "ut8Xqcm93evs"
      },
      "source": [
        "# **break & continue**\n",
        "\n",
        "\n",
        "*   break: 中斷執行中的迴圈，並跳出該迴圈，繼續執行迴圈後的程式。\n",
        "*   continue: 跳過 continue 後的敘述，直接進入下一次迴圈。\n",
        "\n",
        "```\n",
        "for i in sequence:\n",
        "  # statements inside for-loop\n",
        "  if condition:\n",
        "    break\n",
        "  # statements inside for-loop\n",
        "\n",
        "# statements outside for-loop <= break to here\n",
        "```\n",
        "\n",
        "\n",
        "```\n",
        "for i in sequence:\n",
        "  # statements inside for-loop <= continue to here\n",
        "  if condition:\n",
        "    continue\n",
        "  # statements inside for-loop\n",
        "\n",
        "# statements outside for-loop\n",
        "```"
      ]
    },
    {
      "cell_type": "code",
      "metadata": {
        "colab": {
          "base_uri": "https://localhost:8080/"
        },
        "id": "uvUi06lI59uj",
        "outputId": "418ec94d-7983-4cda-bfb9-6e93f0daecd2"
      },
      "source": [
        "count=0\n",
        "for string in 'hello':\n",
        "  count+=1\n",
        "  if string == 'l':\n",
        "      break\n",
        "  print(string)\n",
        "print('count:', count) # <= break to here\n",
        "print(\"----\")\n",
        "\n",
        "count=0\n",
        "for string in 'hello':\n",
        "  count+=1        # <= continue to here\n",
        "  if string == 'l':\n",
        "      continue\n",
        "  print(string)\n",
        "print('count:', count)"
      ],
      "execution_count": null,
      "outputs": [
        {
          "output_type": "stream",
          "name": "stdout",
          "text": [
            "h\n",
            "e\n",
            "count: 3\n",
            "----\n",
            "h\n",
            "e\n",
            "o\n",
            "count: 5\n"
          ]
        }
      ]
    },
    {
      "cell_type": "markdown",
      "metadata": {
        "id": "p7Mj6-Z46K6K"
      },
      "source": [
        "# **enumerate**\n",
        "enumerate() 函式可返回一個列舉型別的物件，並新增一個計數器變數來迭代一個列表或其他型別的集合。\n",
        "```\n",
        "enumerate(iterable, start_index)\n",
        "```"
      ]
    },
    {
      "cell_type": "code",
      "metadata": {
        "colab": {
          "base_uri": "https://localhost:8080/"
        },
        "id": "PPG25jyf6J7w",
        "outputId": "f57fc567-cbd4-4e37-fc5b-9fb47e2ef6dd"
      },
      "source": [
        "# enumerate in list\n",
        "my_garage = ['BMW', 'Benz', 'Maserati', 'Porche']\n",
        "for _, car in enumerate(my_garage):\n",
        "  print(_, car)"
      ],
      "execution_count": null,
      "outputs": [
        {
          "output_type": "stream",
          "name": "stdout",
          "text": [
            "0 BMW\n",
            "1 Benz\n",
            "2 Maserati\n",
            "3 Porche\n"
          ]
        }
      ]
    },
    {
      "cell_type": "markdown",
      "metadata": {
        "id": "kUAMj_XrDspW"
      },
      "source": [
        "## Iterate through a dictionary."
      ]
    },
    {
      "cell_type": "code",
      "metadata": {
        "colab": {
          "base_uri": "https://localhost:8080/"
        },
        "id": "pt27uNAviss0",
        "outputId": "f9c7b552-e47b-440c-e372-7145c7172bd6"
      },
      "source": [
        "# enumerate in dict\n",
        "d1 = {'a' : 15,'b' : 18,'c' : 20}\n",
        "\n",
        "for i,j in enumerate(d1):\n",
        "    print(i,j)"
      ],
      "execution_count": null,
      "outputs": [
        {
          "output_type": "stream",
          "name": "stdout",
          "text": [
            "0 a\n",
            "1 b\n",
            "2 c\n"
          ]
        }
      ]
    },
    {
      "cell_type": "code",
      "metadata": {
        "colab": {
          "base_uri": "https://localhost:8080/"
        },
        "id": "munEJB8iERjV",
        "outputId": "deb3e35c-c809-4b23-d6ba-97fa0fde2026"
      },
      "source": [
        "for i, (j,k) in enumerate(d1.items()):\n",
        "    print(i,j,k)"
      ],
      "execution_count": null,
      "outputs": [
        {
          "output_type": "stream",
          "name": "stdout",
          "text": [
            "0 a 15\n",
            "1 b 18\n",
            "2 c 20\n"
          ]
        }
      ]
    },
    {
      "cell_type": "code",
      "metadata": {
        "colab": {
          "base_uri": "https://localhost:8080/"
        },
        "id": "enGtXtqHEV9f",
        "outputId": "5e28c965-5367-468d-90a7-6ee95b9fcebb"
      },
      "source": [
        "for i,j in enumerate(d1.keys()):\n",
        "    print(i,j)"
      ],
      "execution_count": null,
      "outputs": [
        {
          "output_type": "stream",
          "name": "stdout",
          "text": [
            "0 a\n",
            "1 b\n",
            "2 c\n"
          ]
        }
      ]
    },
    {
      "cell_type": "code",
      "metadata": {
        "colab": {
          "base_uri": "https://localhost:8080/"
        },
        "id": "rqkTB2dqEZh2",
        "outputId": "b7b14732-c457-4ace-a092-7e645cbde176"
      },
      "source": [
        "for i,j in enumerate(d1.values()):\n",
        "    print(i,j)"
      ],
      "execution_count": null,
      "outputs": [
        {
          "output_type": "stream",
          "name": "stdout",
          "text": [
            "0 15\n",
            "1 18\n",
            "2 20\n"
          ]
        }
      ]
    },
    {
      "cell_type": "markdown",
      "metadata": {
        "id": "eLnZLWQDP6O5"
      },
      "source": [
        "# **Queue & Stack**\n",
        "Queue 和 stack 都是循序存取式資料結構，然而他們對存入與取出資料的順序不同。\n",
        "\n",
        "Queue 遵守 first in first out (FIFO) 原則\n",
        "+ 存入資料(insert)：放到序列的最前端\n",
        "+ 取出資料(pop)：取出序列中最末端的資料\n",
        "\n",
        "Stack 遵守 first in last out (FILO) 原則\n",
        "+ 存入資料(append)：放到序列的最末端\n",
        "+ 取出資料(pop)：取出序列中最末端的資料\n"
      ]
    },
    {
      "cell_type": "code",
      "metadata": {
        "id": "V8UsHgtaOwYX",
        "colab": {
          "base_uri": "https://localhost:8080/"
        },
        "outputId": "4d2b4f45-3fb1-4f7f-9da2-a2e8e7fcc648"
      },
      "source": [
        "#### Queue (implemented with `list`) ####\n",
        "vowel_queue = []\n",
        "print(vowel_queue)\n",
        "vowel_queue.insert(0, 'a')\n",
        "print(vowel_queue)\n",
        "vowel_queue.insert(0, 'e')\n",
        "print(vowel_queue)\n",
        "vowel_queue.insert(0, 'i')\n",
        "print(vowel_queue)\n",
        "vowel_queue.insert(0, 'o')\n",
        "print(vowel_queue)\n",
        "vowel_queue.insert(0, 'u')\n",
        "print(vowel_queue)\n",
        "print(\"--\")\n",
        "\n",
        "while len(vowel_queue) > 0:\n",
        "  print(vowel_queue.pop(), \"/\", vowel_queue)\n",
        "\n",
        "print(\"----\")\n",
        "\n",
        "# Please note that implementing queue with list is not optimial for performance.\n",
        "# If you need high performance implementation, please refer to `collections.deque` https://docs.python.org/zh-tw/3/library/collections.html#collections.deque."
      ],
      "execution_count": null,
      "outputs": [
        {
          "output_type": "stream",
          "name": "stdout",
          "text": [
            "[]\n",
            "['a']\n",
            "['e', 'a']\n",
            "['i', 'e', 'a']\n",
            "['o', 'i', 'e', 'a']\n",
            "['u', 'o', 'i', 'e', 'a']\n",
            "--\n",
            "a / ['u', 'o', 'i', 'e']\n",
            "e / ['u', 'o', 'i']\n",
            "i / ['u', 'o']\n",
            "o / ['u']\n",
            "u / []\n",
            "----\n"
          ]
        }
      ]
    },
    {
      "cell_type": "code",
      "metadata": {
        "id": "Y7b3nAlLTfe4",
        "colab": {
          "base_uri": "https://localhost:8080/"
        },
        "outputId": "b3c1a73e-524f-416f-9186-d37067086cfe"
      },
      "source": [
        "#### Stack (implemented with `list`) ####\n",
        "vowel_stack = []\n",
        "print(vowel_stack)\n",
        "vowel_stack.append('a')\n",
        "print(vowel_stack)\n",
        "vowel_stack.append('e')\n",
        "print(vowel_stack)\n",
        "vowel_stack.append('i')\n",
        "print(vowel_stack)\n",
        "vowel_stack.append('o')\n",
        "print(vowel_stack)\n",
        "vowel_stack.append('u')\n",
        "print(vowel_stack)\n",
        "print(\"--\")\n",
        "\n",
        "while len(vowel_stack) > 0:\n",
        "  print(vowel_stack.pop(), \"/\", vowel_stack)\n",
        "\n",
        "print(\"----\")\n"
      ],
      "execution_count": null,
      "outputs": [
        {
          "output_type": "stream",
          "name": "stdout",
          "text": [
            "[]\n",
            "['a']\n",
            "['a', 'e']\n",
            "['a', 'e', 'i']\n",
            "['a', 'e', 'i', 'o']\n",
            "['a', 'e', 'i', 'o', 'u']\n",
            "--\n",
            "u / ['a', 'e', 'i', 'o']\n",
            "o / ['a', 'e', 'i']\n",
            "i / ['a', 'e']\n",
            "e / ['a']\n",
            "a / []\n",
            "----\n"
          ]
        }
      ]
    },
    {
      "cell_type": "markdown",
      "metadata": {
        "id": "-Pobm4fWOvam"
      },
      "source": [
        "# **Random Generator**\n",
        "\n",
        "以下程式碼片段示範\n",
        "+ 隨機產生指定範圍內之整數\n",
        "+ 隨機產生指定範圍內之實數\n",
        "+ 隨機產生排列組合"
      ]
    },
    {
      "cell_type": "code",
      "metadata": {
        "id": "5w5WV_TXP5Xh",
        "colab": {
          "base_uri": "https://localhost:8080/"
        },
        "outputId": "70075f58-22ff-49be-ebbc-09f0a002491b"
      },
      "source": [
        "import random\n",
        "\n",
        "n  = 20\n",
        "lb = 0\n",
        "ub = 99\n",
        "\n",
        "# Randomly generate n integers within {lb, lb+1, ..., ub}\n",
        "randlist = [random.randint(lb, ub) for i in range(n)]\n",
        "print(\"(1)\", randlist)"
      ],
      "execution_count": null,
      "outputs": [
        {
          "output_type": "stream",
          "name": "stdout",
          "text": [
            "(1) [42, 78, 90, 16, 6, 93, 33, 59, 74, 95, 38, 39, 4, 25, 47, 52, 87, 53, 26, 8]\n"
          ]
        }
      ]
    },
    {
      "cell_type": "code",
      "metadata": {
        "id": "tvAnytdEcMgV",
        "colab": {
          "base_uri": "https://localhost:8080/"
        },
        "outputId": "00b270ff-3f2b-4093-eea1-e0036e94d843"
      },
      "source": [
        "# Randomly generate n real values in [0.0, 1.0)\n",
        "randlist = [random.random() for i in range(n)]\n",
        "print(\"(2)\", end=\" \")\n",
        "for value in randlist:\n",
        "  print(\"%.2f\" % value, end=\", \")\n",
        "print()"
      ],
      "execution_count": null,
      "outputs": [
        {
          "output_type": "stream",
          "name": "stdout",
          "text": [
            "(2) 0.16, 0.19, 0.68, 0.25, 0.47, 0.88, 0.86, 0.43, 0.43, 0.90, 0.27, 0.29, 0.05, 0.39, 0.51, 0.78, 0.61, 0.03, 0.96, 0.89, \n"
          ]
        }
      ]
    },
    {
      "cell_type": "code",
      "metadata": {
        "id": "lqqKC3x0cHC5",
        "colab": {
          "base_uri": "https://localhost:8080/"
        },
        "outputId": "2a87f039-669b-4177-ece1-2d8390ec26de"
      },
      "source": [
        "# Randomly generate n real values in [lb, ub]\n",
        "randlist = [random.uniform(lb, ub) for i in range(n)]\n",
        "print(\"(3)\", end=\" \")\n",
        "for value in randlist:\n",
        "  print(\"%.2f\" % value, end=\", \")"
      ],
      "execution_count": null,
      "outputs": [
        {
          "output_type": "stream",
          "name": "stdout",
          "text": [
            "(3) 5.00, 47.15, 71.57, 28.41, 85.38, 92.90, 3.57, 35.33, 59.44, 11.58, 80.26, 63.38, 21.36, 44.58, 37.66, 33.79, 6.09, 0.37, 40.85, 29.40, "
          ]
        }
      ]
    },
    {
      "cell_type": "code",
      "metadata": {
        "id": "GjY1X3KCcCE6",
        "colab": {
          "base_uri": "https://localhost:8080/"
        },
        "outputId": "33911dc6-d419-43dc-ddc3-69eae8c59d2d"
      },
      "source": [
        "# Randomly shuffle a list\n",
        "lb, ub = 1, 20\n",
        "i_list = list(range(lb, ub))\n",
        "print(\"Before shuffle =\", i_list)\n",
        "random.shuffle(i_list)\n",
        "print(\"After shuffle  =\", i_list)\n",
        "i_list.sort()\n",
        "print(\"Sort back      =\", i_list)"
      ],
      "execution_count": null,
      "outputs": [
        {
          "output_type": "stream",
          "name": "stdout",
          "text": [
            "Before shuffle = [1, 2, 3, 4, 5, 6, 7, 8, 9, 10, 11, 12, 13, 14, 15, 16, 17, 18, 19]\n",
            "After shuffle  = [7, 17, 13, 6, 1, 10, 5, 18, 11, 15, 3, 2, 14, 12, 9, 4, 19, 8, 16]\n",
            "Sort back      = [1, 2, 3, 4, 5, 6, 7, 8, 9, 10, 11, 12, 13, 14, 15, 16, 17, 18, 19]\n"
          ]
        }
      ]
    },
    {
      "cell_type": "code",
      "metadata": {
        "id": "5UQN3shwcUOx",
        "colab": {
          "base_uri": "https://localhost:8080/"
        },
        "outputId": "67dbcaa9-ab1c-4e55-f503-a632c3b3e8ed"
      },
      "source": [
        "# Randomly draw k items from a list \"without replacement\": 1) shuffle, 2) slice\n",
        "k = 5\n",
        "i_list = list(range(lb, ub))\n",
        "print(\"Population    =\", i_list)\n",
        "random.shuffle(i_list)\n",
        "print(\"After shuffle =\", i_list)\n",
        "i_list = i_list[0:k]\n",
        "print(\"After slicing =\", i_list)"
      ],
      "execution_count": null,
      "outputs": [
        {
          "output_type": "stream",
          "name": "stdout",
          "text": [
            "Population    = [1, 2, 3, 4, 5, 6, 7, 8, 9, 10, 11, 12, 13, 14, 15, 16, 17, 18, 19]\n",
            "After shuffle = [10, 4, 19, 5, 3, 17, 2, 15, 7, 12, 11, 1, 6, 8, 14, 13, 16, 9, 18]\n",
            "After slicing = [10, 4, 19, 5, 3]\n"
          ]
        }
      ]
    },
    {
      "cell_type": "code",
      "metadata": {
        "id": "JjHZJ1PccUCr",
        "colab": {
          "base_uri": "https://localhost:8080/"
        },
        "outputId": "9c0c8256-037b-4858-f943-f5694de48fc0"
      },
      "source": [
        "# Randomly draw k items from a list \"with replacement\"\n",
        "k = 5\n",
        "i_list = list(range(lb, ub))\n",
        "print(\"Population =\", i_list)\n",
        "samples = random.choices(i_list, k=k)\n",
        "print(\"Samples    =\", samples)"
      ],
      "execution_count": null,
      "outputs": [
        {
          "output_type": "stream",
          "name": "stdout",
          "text": [
            "Population = [1, 2, 3, 4, 5, 6, 7, 8, 9, 10, 11, 12, 13, 14, 15, 16, 17, 18, 19]\n",
            "Samples    = [16, 2, 19, 17, 13]\n"
          ]
        }
      ]
    },
    {
      "cell_type": "markdown",
      "metadata": {
        "id": "52beUEDmOpdl"
      },
      "source": [
        "# **Function**\n",
        "programming 概念：DRY (Don't Repeat Yourself)\n",
        "\n",
        "適當地進行封裝，達到程式碼的 reusable。建構函示 (function) 即可提高維護性及可讀性，並達到 reusable。\n",
        "\n"
      ]
    },
    {
      "cell_type": "markdown",
      "metadata": {
        "id": "p-FlR5W_oHXW"
      },
      "source": [
        "### **用 def 定義函式，用小括號呼叫函式**"
      ]
    },
    {
      "cell_type": "code",
      "metadata": {
        "colab": {
          "base_uri": "https://localhost:8080/"
        },
        "id": "4ClOxIeGgMLH",
        "outputId": "4ffe9700-dd5d-4668-9a58-e6d0d50b1a81"
      },
      "source": [
        "def make_a_sound():\n",
        "  print('quack')\n",
        "\n",
        "make_a_sound()"
      ],
      "execution_count": null,
      "outputs": [
        {
          "output_type": "stream",
          "name": "stdout",
          "text": [
            "quack\n"
          ]
        }
      ]
    },
    {
      "cell_type": "markdown",
      "metadata": {
        "id": "E2AkckQCvZ5t"
      },
      "source": [
        "### **引數 Argument & 參數 Parameter**\n",
        "From stack overflow:\n",
        "\n",
        "* An argument is an expression used when calling the method.\n",
        "* A parameter is the variable which is part of the method’s signature (method declaration).\n",
        "* 引數 (Argument) 是用於呼叫函式，\n",
        "* 參數 (Parameter) 是方法簽章 (方法的宣告)。\n",
        "\n",
        "```\n",
        "void Foo(int i, float f)\n",
        "{\n",
        "    // Do things\n",
        "}\n",
        "\n",
        "void Bar()\n",
        "{\n",
        "    int num = 1;\n",
        "    Foo(anInt, 2.0);\n",
        "}\n",
        "```\n",
        "\n",
        "num 與 2.0 即為 引數 (Argument)，或稱為 函式引數 (Argument of a Function)。\n",
        "i 與 f 則為 參數 (Parameter)。\n"
      ]
    },
    {
      "cell_type": "markdown",
      "metadata": {
        "id": "JgvCab28y20o"
      },
      "source": [
        "### **位置性引數 Positional Arguement**\n",
        "位置性引數(Positional Arguement)為最常見的引數類型，他們的值會被依序複製到對應的參數。\n",
        "\n"
      ]
    },
    {
      "cell_type": "code",
      "metadata": {
        "colab": {
          "base_uri": "https://localhost:8080/"
        },
        "id": "AaqDcM63y4zq",
        "outputId": "21f3af2c-dc69-4a15-f6d7-92fb0a608cbc"
      },
      "source": [
        "def menu(wine, entree, dessert):\n",
        "  return {'wine': wine, 'entree': entree, 'dessert': dessert}\n",
        "\n",
        "menu('Balvenie', 'chicken', 'cake')"
      ],
      "execution_count": null,
      "outputs": [
        {
          "output_type": "execute_result",
          "data": {
            "text/plain": [
              "{'dessert': 'cake', 'entree': 'chicken', 'wine': 'Balvenie'}"
            ]
          },
          "metadata": {},
          "execution_count": 85
        }
      ]
    },
    {
      "cell_type": "markdown",
      "metadata": {
        "id": "l46d6rgsy5HN"
      },
      "source": [
        "### **關鍵字引數 Keyword Arguement**\n",
        "提高可讀性，避免位置引數的混亂。可以用引數對應的參數名稱來指定引數，即使指定順序與函式定義的順序不同也沒問題。\n",
        "\n",
        "特別注意：同時使用位置與關鍵字引數時來呼叫函式時，必須將位置引數放在前面。\n",
        "\n",
        "\n"
      ]
    },
    {
      "cell_type": "code",
      "metadata": {
        "colab": {
          "base_uri": "https://localhost:8080/"
        },
        "id": "JZzZGaaR0gcg",
        "outputId": "49fafc0a-9a97-406e-eeea-a98dadc8f8a8"
      },
      "source": [
        "menu(entree='beef', dessert='bagel', wine='bordeaux')"
      ],
      "execution_count": null,
      "outputs": [
        {
          "output_type": "execute_result",
          "data": {
            "text/plain": [
              "{'dessert': 'bagel', 'entree': 'beef', 'wine': 'bordeaux'}"
            ]
          },
          "metadata": {},
          "execution_count": 86
        }
      ]
    },
    {
      "cell_type": "markdown",
      "metadata": {
        "id": "ocPMZnFV0gwC"
      },
      "source": [
        "### **預設參數值 Default Arguement**\n",
        "\n",
        "必要引數(Required Arguement)必須放在預設引數(Optional Arguement)的前面。"
      ]
    },
    {
      "cell_type": "code",
      "metadata": {
        "colab": {
          "base_uri": "https://localhost:8080/"
        },
        "id": "ELQan-xj0iKY",
        "outputId": "2096cd92-06fc-49ce-f26c-6b819ddf7212"
      },
      "source": [
        "def menu(wine, entree, dessert='pudding'):\n",
        "  return {'wine': wine, 'entree': entree, 'dessert': dessert}\n",
        "\n",
        "menu('chardonnay', 'chicken')"
      ],
      "execution_count": null,
      "outputs": [
        {
          "output_type": "execute_result",
          "data": {
            "text/plain": [
              "{'dessert': 'pudding', 'entree': 'chicken', 'wine': 'chardonnay'}"
            ]
          },
          "metadata": {},
          "execution_count": 87
        }
      ]
    },
    {
      "cell_type": "markdown",
      "metadata": {
        "id": "WC-W0oLi3l7U"
      },
      "source": [
        "### ***args,** ****kwargs運算子**\n",
        "在函式參數裡的 * 可以將不固定數量的位置引數打包成 tuple 的資料型態。"
      ]
    },
    {
      "cell_type": "code",
      "metadata": {
        "colab": {
          "base_uri": "https://localhost:8080/"
        },
        "id": "qJHoESfR39PY",
        "outputId": "d177c91f-76bd-485e-ae03-eb61cfa58117"
      },
      "source": [
        "def print_args(*args):\n",
        "  print('Positional tuple: ', args)\n",
        "\n",
        "print_args()\n",
        "\n",
        "print_args(3, 8, 4, 'Hi!', \"Let's goooo\")"
      ],
      "execution_count": null,
      "outputs": [
        {
          "output_type": "stream",
          "name": "stdout",
          "text": [
            "Positional tuple:  ()\n",
            "Positional tuple:  (3, 8, 4, 'Hi!', \"Let's goooo\")\n"
          ]
        }
      ]
    },
    {
      "cell_type": "markdown",
      "metadata": {
        "id": "BnwtYsb4KzB5"
      },
      "source": [
        "如果你的函式也需要位置引數，則位置引數需要放在前面，*args放在最後，使它可以抓取所有其餘引數。"
      ]
    },
    {
      "cell_type": "code",
      "metadata": {
        "colab": {
          "base_uri": "https://localhost:8080/"
        },
        "id": "gmEVkcnJJ9Xj",
        "outputId": "4731cd13-9121-431c-bcba-3908862a5a8d"
      },
      "source": [
        "def print_more(required1, required2, *args):\n",
        "  print('Need this one: ', required1)\n",
        "  print('Need this one too: ', required2)\n",
        "  print('All the rest: ', args)\n",
        "\n",
        "print_more('cap', 'gloves', 'scarf', 'monocle', 'mustache wax')"
      ],
      "execution_count": null,
      "outputs": [
        {
          "output_type": "stream",
          "name": "stdout",
          "text": [
            "Need this one:  cap\n",
            "Need this one too:  gloves\n",
            "All the rest:  ('scarf', 'monocle', 'mustache wax')\n"
          ]
        }
      ]
    },
    {
      "cell_type": "markdown",
      "metadata": {
        "id": "3-vcMnLoLY8q"
      },
      "source": [
        "你也可以使用 ** 來將關鍵字引數 (Keyword Argument) 組成字典 dictionary，其中關鍵字參數的鍵 (Key) 對應到字典 (Dictionary) 的鍵 (Key)，指派的值 (Value) 對應到字典 (Dictionary) 的值 (Value)。"
      ]
    },
    {
      "cell_type": "code",
      "metadata": {
        "colab": {
          "base_uri": "https://localhost:8080/"
        },
        "id": "QG_NM5mOMWrR",
        "outputId": "e66419ce-c0e6-4d49-faf4-0a040f1bf567"
      },
      "source": [
        "def classroom(**kwargs):\n",
        "  for key, value in kwargs.items():\n",
        "    print (\"%s == %s\" %(key, value))\n",
        "\n",
        "classroom(first ='Introduction', mid ='to', last='AI')"
      ],
      "execution_count": null,
      "outputs": [
        {
          "output_type": "stream",
          "name": "stdout",
          "text": [
            "first == Introduction\n",
            "mid == to\n",
            "last == AI\n"
          ]
        }
      ]
    },
    {
      "cell_type": "code",
      "metadata": {
        "colab": {
          "base_uri": "https://localhost:8080/"
        },
        "id": "GlmSAG9UOTt9",
        "outputId": "9eba8bd9-2408-4d00-f2f4-c604558f7db3"
      },
      "source": [
        "def classroom(arg1, **kwargs):\n",
        "  print(arg1)\n",
        "  for key, value in kwargs.items():\n",
        "    print (\"%s == %s\" %(key, value))\n",
        "\n",
        "classroom('Welcome to ', first ='Introduction', mid ='to', last='AI')"
      ],
      "execution_count": null,
      "outputs": [
        {
          "output_type": "stream",
          "name": "stdout",
          "text": [
            "Welcome to \n",
            "first == Introduction\n",
            "mid == to\n",
            "last == AI\n"
          ]
        }
      ]
    },
    {
      "cell_type": "code",
      "metadata": {
        "colab": {
          "base_uri": "https://localhost:8080/"
        },
        "id": "6e-mSxcaO1h9",
        "outputId": "0770f4f0-a174-4a38-846a-5519419bd091"
      },
      "source": [
        "def myFun(arg1, arg2, arg3):\n",
        "  print(\"arg1:\", arg1)\n",
        "  print(\"arg2:\", arg2)\n",
        "  print(\"arg3:\", arg3)\n",
        "\n",
        "# Now we can use *args or **kwargs to\n",
        "# pass arguments to this function :\n",
        "args = (\"I\", \"love\", \"coding.\")\n",
        "myFun(*args)\n",
        "\n",
        "kwargs = {\"arg1\" : \"Coding\", \"arg2\" : \"is\", \"arg3\" : \"easy.\"}\n",
        "myFun(**kwargs)"
      ],
      "execution_count": null,
      "outputs": [
        {
          "output_type": "stream",
          "name": "stdout",
          "text": [
            "arg1: I\n",
            "arg2: love\n",
            "arg3: coding.\n",
            "arg1: Coding\n",
            "arg2: is\n",
            "arg3: easy.\n"
          ]
        }
      ]
    },
    {
      "cell_type": "code",
      "metadata": {
        "colab": {
          "base_uri": "https://localhost:8080/"
        },
        "id": "WftNNl-aPSKr",
        "outputId": "8c60fd5a-b2db-45b1-a358-dfb6b66b13fc"
      },
      "source": [
        "def myFun(*args,**kwargs):\n",
        "  print(\"args: \", args)\n",
        "  print(\"kwargs: \", kwargs)\n",
        "\n",
        "myFun('I','hate','COVID-19.',first=\"But\",mid=\"WFH\",last=\"is good.\")"
      ],
      "execution_count": null,
      "outputs": [
        {
          "output_type": "stream",
          "name": "stdout",
          "text": [
            "args:  ('I', 'hate', 'COVID-19.')\n",
            "kwargs:  {'first': 'But', 'mid': 'WFH', 'last': 'is good.'}\n"
          ]
        }
      ]
    },
    {
      "cell_type": "markdown",
      "metadata": {
        "id": "5eZX3QvpP9yR"
      },
      "source": [
        "### **Function 延伸練習**\n",
        "* 內部函式：你可以在函式內部再定義一個函式。\n",
        "* 遞迴 Recursion：呼叫自己的函式。\n",
        "* 匿名函式 lambda function：以一行陳述式來表示。\n",
        "* ...\n",
        "\n",
        "### **物件導向 Object-oreinted & Class**\n",
        "物件概念的開發方式可以提高大型程式的重用性、擴充性和維護性。鼓勵有興趣的同學多多利用網路資源。"
      ]
    },
    {
      "cell_type": "markdown",
      "metadata": {
        "id": "bCNYyoROM7uq"
      },
      "source": [
        "# **Numpy**\n",
        "Numpy 是 Python 的一個重要模組，支援高階大量的維度陣列與矩陣運算，此外也針對陣列運算提供大量的數學函式函式庫。\n",
        "\n",
        "NumPy的核心功能是ndarray（即n-dimensional array，多維陣列）資料結構。這是一個表示多維度、同質並且固定大小的陣列物件。\n",
        "\n",
        "To learn more https://numpy.org/doc/stable/reference/arrays.html"
      ]
    },
    {
      "cell_type": "markdown",
      "metadata": {
        "id": "2r_ePet3_jT7"
      },
      "source": [
        "## 1.Introduction and Array Creation\n",
        "\n",
        "\n"
      ]
    },
    {
      "cell_type": "markdown",
      "metadata": {
        "id": "3sNxsLHtPKf4"
      },
      "source": [
        "### 1.1 Attributes\n",
        "Numpy 的重點在於陣列的操作，其所有功能特色都建築在同質且多重維度的 `ndarray`，而`ndarray`有三種屬性，分別為維度（ndim）、形狀（shape）和數值類型（dtype）。以下為用來查詢陣列屬性常用的function。\n",
        "\n",
        "* `ndarray.ndim`\n",
        "* `ndarray.shape`\n",
        "* `ndarray.size`\n",
        "* `ndarry.dtype`"
      ]
    },
    {
      "cell_type": "code",
      "metadata": {
        "colab": {
          "base_uri": "https://localhost:8080/"
        },
        "id": "pWwHdvOOaQTR",
        "outputId": "4cdebf93-6dde-4ca3-a4b3-591b505efb65"
      },
      "source": [
        "import numpy as np\n",
        "a = np.array([2, 3, 4])\n",
        "b = np.array([(1.5, 2, 3), (4, 5, 6)])\n",
        "print(\"array a = \\n\",a)\n",
        "print(\"array b = \\n\",b)\n",
        "print(\"--------------\")\n",
        "print(\"dimenions of a = \",a.ndim)\n",
        "print(\"dimenions of b = \",b.ndim)\n",
        "print(\"--------------\")\n",
        "print(\"shape of a = \",a.shape)\n",
        "print(\"shape of b = \",b.shape)\n",
        "print(\"--------------\")\n",
        "print(\"datatype of a = \",a.dtype)\n",
        "print(\"datatype of b = \",b.dtype)\n",
        "print(\"--------------\")\n",
        "print(\"size of a = \",a.size)\n",
        "print(\"size of b = \",b.size)"
      ],
      "execution_count": null,
      "outputs": [
        {
          "output_type": "stream",
          "name": "stdout",
          "text": [
            "array a = \n",
            " [2 3 4]\n",
            "array b = \n",
            " [[1.5 2.  3. ]\n",
            " [4.  5.  6. ]]\n",
            "--------------\n",
            "dimenions of a =  1\n",
            "dimenions of b =  2\n",
            "--------------\n",
            "shape of a =  (3,)\n",
            "shape of b =  (2, 3)\n",
            "--------------\n",
            "datatype of a =  int64\n",
            "datatype of b =  float64\n",
            "--------------\n",
            "size of a =  3\n",
            "size of b =  6\n"
          ]
        }
      ]
    },
    {
      "cell_type": "markdown",
      "metadata": {
        "id": "4HGEu14RMs00"
      },
      "source": [
        "### 1.2 Array Creation\n",
        "為了能夠快速、有規律地生成陣列，我們可以使用以下function\n",
        "* `numpy.array`\n",
        "* `numpy.zeros`\n",
        "* `numpy.ones`\n",
        "* `numpy.random.rand`\n",
        "* `numpy.arange`\n",
        "* `numpy.linspace`"
      ]
    },
    {
      "cell_type": "code",
      "metadata": {
        "colab": {
          "base_uri": "https://localhost:8080/"
        },
        "id": "DY_NNVOqdgPr",
        "outputId": "30f104ae-2577-47f3-a16d-0b8710244a27"
      },
      "source": [
        "a = np.array([(1, 2), (3, 4)], dtype=float)\n",
        "print(\"array a = \\n\",a)\n",
        "print(\"--------------\")\n",
        "a = np.array([(1, 2), (3, 4)], dtype=complex)\n",
        "print(\"array a = \\n\",a)\n",
        "print(\"--------------\")\n",
        "a = np.zeros((3, 4))#by default, the dtype of the created array is float64\n",
        "print(\"array a = \\n\",a)\n",
        "print(\"--------------\")\n"
      ],
      "execution_count": null,
      "outputs": [
        {
          "output_type": "stream",
          "name": "stdout",
          "text": [
            "array a = \n",
            " [[1. 2.]\n",
            " [3. 4.]]\n",
            "--------------\n",
            "array a = \n",
            " [[1.+0.j 2.+0.j]\n",
            " [3.+0.j 4.+0.j]]\n",
            "--------------\n",
            "array a = \n",
            " [[0. 0. 0. 0.]\n",
            " [0. 0. 0. 0.]\n",
            " [0. 0. 0. 0.]]\n",
            "--------------\n"
          ]
        }
      ]
    },
    {
      "cell_type": "code",
      "metadata": {
        "colab": {
          "base_uri": "https://localhost:8080/"
        },
        "id": "mGjYoe_UUc1Y",
        "outputId": "59e6b5a8-c570-4380-b979-03006c9e3d83"
      },
      "source": [
        "a = np.ones((2, 3, 4), dtype=np.int16)\n",
        "print(\"array a = \\n\",a)\n",
        "print(\"--------------\")\n",
        "a = np.random.rand(3, 2)#generate numbers between 0 and 1\n",
        "print(\"array a = \\n\",a)\n",
        "print(\"--------------\")\n",
        "a = np.arange(6)\n",
        "print(\"array a = \\n\",a)\n",
        "print(\"--------------\")"
      ],
      "execution_count": null,
      "outputs": [
        {
          "output_type": "stream",
          "name": "stdout",
          "text": [
            "array a = \n",
            " [[[1 1 1 1]\n",
            "  [1 1 1 1]\n",
            "  [1 1 1 1]]\n",
            "\n",
            " [[1 1 1 1]\n",
            "  [1 1 1 1]\n",
            "  [1 1 1 1]]]\n",
            "--------------\n",
            "array a = \n",
            " [[0.73839668 0.3278582 ]\n",
            " [0.81383302 0.09427329]\n",
            " [0.6057606  0.75166962]]\n",
            "--------------\n",
            "array a = \n",
            " [0 1 2 3 4 5]\n",
            "--------------\n"
          ]
        }
      ]
    },
    {
      "cell_type": "code",
      "metadata": {
        "colab": {
          "base_uri": "https://localhost:8080/"
        },
        "id": "U4ZzqLduUfTV",
        "outputId": "bcf78ff9-31d9-44b5-97d2-4b5c0188591e"
      },
      "source": [
        "a = np.arange(12).reshape(4, 3)\n",
        "print(\"array a = \\n\",a)\n",
        "print(\"--------------\")\n",
        "a = np.arange(24).reshape(2, 3, 4)\n",
        "print(\"array a = \\n\",a)\n",
        "print(\"--------------\")\n",
        "a = np.arange(0, 2, 0.3)\n",
        "print(\"array a = \\n\",a)\n",
        "print(\"--------------\")\n",
        "a = np.linspace(0, 2, 9)\n",
        "print(\"array a = \\n\",a)\n",
        "print(\"--------------\")"
      ],
      "execution_count": null,
      "outputs": [
        {
          "output_type": "stream",
          "name": "stdout",
          "text": [
            "array a = \n",
            " [[ 0  1  2]\n",
            " [ 3  4  5]\n",
            " [ 6  7  8]\n",
            " [ 9 10 11]]\n",
            "--------------\n",
            "array a = \n",
            " [[[ 0  1  2  3]\n",
            "  [ 4  5  6  7]\n",
            "  [ 8  9 10 11]]\n",
            "\n",
            " [[12 13 14 15]\n",
            "  [16 17 18 19]\n",
            "  [20 21 22 23]]]\n",
            "--------------\n",
            "array a = \n",
            " [0.  0.3 0.6 0.9 1.2 1.5 1.8]\n",
            "--------------\n",
            "array a = \n",
            " [0.   0.25 0.5  0.75 1.   1.25 1.5  1.75 2.  ]\n",
            "--------------\n"
          ]
        }
      ]
    },
    {
      "cell_type": "markdown",
      "metadata": {
        "id": "iPV3Gm3GArCG"
      },
      "source": [
        "## 2.Basic Operations\n",
        "以下範例為array的一些基本運算，值得注意的是這些運算是單獨對各個元素做運算，而非傳統數學形式上矩陣的運算"
      ]
    },
    {
      "cell_type": "code",
      "metadata": {
        "colab": {
          "base_uri": "https://localhost:8080/"
        },
        "id": "9qgjjSM6dvPG",
        "outputId": "0e2085ea-74a6-412c-d878-906db94e4937"
      },
      "source": [
        "a = np.array([20, 30, 40, 50])\n",
        "b = np.arange(4)\n",
        "print(\"array a = \",a)\n",
        "print(\"array b = \",b)\n",
        "print(\"--------------\")\n",
        "print(\"a - b = \",a - b)\n",
        "print(\"--------------\")\n",
        "print(\"b ** 2 = \",b ** 2)\n",
        "print(\"--------------\")\n"
      ],
      "execution_count": null,
      "outputs": [
        {
          "output_type": "stream",
          "name": "stdout",
          "text": [
            "array a =  [20 30 40 50]\n",
            "array b =  [0 1 2 3]\n",
            "--------------\n",
            "a - b =  [20 29 38 47]\n",
            "--------------\n",
            "b ** 2 =  [0 1 4 9]\n",
            "--------------\n"
          ]
        }
      ]
    },
    {
      "cell_type": "code",
      "metadata": {
        "colab": {
          "base_uri": "https://localhost:8080/"
        },
        "id": "8mWrNxaeVRsW",
        "outputId": "cd622d5b-0ce3-4f2f-814d-7346ce500d1e"
      },
      "source": [
        "print(\"10 * np.sin(a) = \",10 * np.sin(a))\n",
        "print(\"--------------\")\n",
        "A = np.array([[1, 1],[0, 1]])\n",
        "B = np.array([[2, 0],[3, 4]])\n",
        "print(\"array A = \\n\",A)\n",
        "print(\"array B = \\n\",B)\n",
        "print(\"--------------\")\n",
        "print(\"A * B = \\n\",A * B)\n",
        "print(\"--------------\")\n",
        "print(\"A @ B = \\n\",A @ B)\n",
        "print(\"--------------\")"
      ],
      "execution_count": null,
      "outputs": [
        {
          "output_type": "stream",
          "name": "stdout",
          "text": [
            "10 * np.sin(a) =  [ 9.12945251 -9.88031624  7.4511316  -2.62374854]\n",
            "--------------\n",
            "array A = \n",
            " [[1 1]\n",
            " [0 1]]\n",
            "array B = \n",
            " [[2 0]\n",
            " [3 4]]\n",
            "--------------\n",
            "A * B = \n",
            " [[2 0]\n",
            " [0 4]]\n",
            "--------------\n",
            "A @ B = \n",
            " [[5 4]\n",
            " [3 4]]\n",
            "--------------\n"
          ]
        }
      ]
    },
    {
      "cell_type": "markdown",
      "metadata": {
        "id": "BI4od49aeKYF"
      },
      "source": [
        "以下為一些array的function，可以不須使用傳統for loop來進行陣列內資料的處理。\n",
        "* `ndarray.sum()`\n",
        "* `ndarray.min()`\n",
        "* `ndarray.max()`"
      ]
    },
    {
      "cell_type": "code",
      "metadata": {
        "colab": {
          "base_uri": "https://localhost:8080/"
        },
        "id": "cwAPC4Uijps7",
        "outputId": "b7642231-23fd-4682-9d9e-d6a1e5d4068f"
      },
      "source": [
        "a = np.random.rand(2, 3)\n",
        "print(\"array a = \\n\",a)\n",
        "print(\"--------------\")\n",
        "print(\"a.sum() = \\n\",a.sum())\n",
        "print(\"--------------\")\n",
        "print(\"a.min() = \\n\",a.min())\n",
        "print(\"--------------\")\n",
        "print(\"a.max() = \\n\",a.max())\n",
        "print(\"--------------\")"
      ],
      "execution_count": null,
      "outputs": [
        {
          "output_type": "stream",
          "name": "stdout",
          "text": [
            "array a = \n",
            " [[0.37675339 0.35882259 0.30881384]\n",
            " [0.0313235  0.50933765 0.79288358]]\n",
            "--------------\n",
            "a.sum() = \n",
            " 2.377934555271273\n",
            "--------------\n",
            "a.min() = \n",
            " 0.0313234985085552\n",
            "--------------\n",
            "a.max() = \n",
            " 0.7928835840048896\n",
            "--------------\n"
          ]
        }
      ]
    },
    {
      "cell_type": "markdown",
      "metadata": {
        "id": "q8mm4zsOjv4w"
      },
      "source": [
        "以上這些function除了可以對整個陣列做資料處理外，還可以分別對各個axis做處理"
      ]
    },
    {
      "cell_type": "code",
      "metadata": {
        "colab": {
          "base_uri": "https://localhost:8080/"
        },
        "id": "-oo-fDDzjzU7",
        "outputId": "942be1ac-917a-4d62-eb6d-d9769aeda733"
      },
      "source": [
        "a = np.arange(12).reshape(3, 4)\n",
        "print(\"array a = \\n\",a)\n",
        "print(\"--------------\")\n",
        "print(\"a.sum(axis=0) = \",a.sum(axis=0))#sum of each column\n",
        "print(\"--------------\")\n",
        "print(\"a.min(axis=1) = \",a.min(axis=1))#min of each row\n",
        "print(\"--------------\")\n",
        "print(\"a.cumsum(axis=0) = \\n\",a.cumsum(axis=1))#cumulative sum along each ro"
      ],
      "execution_count": null,
      "outputs": [
        {
          "output_type": "stream",
          "name": "stdout",
          "text": [
            "array a = \n",
            " [[ 0  1  2  3]\n",
            " [ 4  5  6  7]\n",
            " [ 8  9 10 11]]\n",
            "--------------\n",
            "a.sum(axis=0) =  [12 15 18 21]\n",
            "--------------\n",
            "a.min(axis=1) =  [0 4 8]\n",
            "--------------\n",
            "a.cumsum(axis=0) = \n",
            " [[ 0  1  3  6]\n",
            " [ 4  9 15 22]\n",
            " [ 8 17 27 38]]\n"
          ]
        }
      ]
    },
    {
      "cell_type": "markdown",
      "metadata": {
        "id": "S4PITFsjHYFn"
      },
      "source": [
        "##3.Indexing, Slicing and Iterating"
      ]
    },
    {
      "cell_type": "markdown",
      "metadata": {
        "id": "j219Hs0bp_Ko"
      },
      "source": [
        "### 3.1 One-dimensional\n",
        "利用和python list 中相似的語法，來存取陣列中片段的資料"
      ]
    },
    {
      "cell_type": "code",
      "metadata": {
        "colab": {
          "base_uri": "https://localhost:8080/"
        },
        "id": "loRtJU9dqFkT",
        "outputId": "d91c3465-97c7-481f-de0e-df1c7b2c6042"
      },
      "source": [
        "a = np.arange(10)**3\n",
        "print(\"array a = \",a)\n",
        "print(\"--------------\")\n",
        "print(\"a[2] = \",a[2])\n",
        "print(\"--------------\")\n",
        "print(\"a[2:5] = \",a[2:5])\n",
        "print(\"--------------\")\n",
        "a[:6:2] = 1000\n",
        "# equivalent to a[0:6:2] = 1000;\n",
        "# from start to position 6, exclusive, set every 2nd element to 1000\n",
        "print(\"array a = \",a)\n",
        "print(\"--------------\")\n",
        "print(\"a[::-1] = \",a[::-1])# reversed a\n",
        "print(\"--------------\")\n",
        "for i in a:\n",
        "    print(i**(1 / 3.))"
      ],
      "execution_count": null,
      "outputs": [
        {
          "output_type": "stream",
          "name": "stdout",
          "text": [
            "array a =  [  0   1   8  27  64 125 216 343 512 729]\n",
            "--------------\n",
            "a[2] =  8\n",
            "--------------\n",
            "a[2:5] =  [ 8 27 64]\n",
            "--------------\n",
            "array a =  [1000    1 1000   27 1000  125  216  343  512  729]\n",
            "--------------\n",
            "a[::-1] =  [ 729  512  343  216  125 1000   27 1000    1 1000]\n",
            "--------------\n",
            "9.999999999999998\n",
            "1.0\n",
            "9.999999999999998\n",
            "3.0\n",
            "9.999999999999998\n",
            "4.999999999999999\n",
            "5.999999999999999\n",
            "6.999999999999999\n",
            "7.999999999999999\n",
            "8.999999999999998\n"
          ]
        }
      ]
    },
    {
      "cell_type": "markdown",
      "metadata": {
        "id": "D9IjvtimqIzr"
      },
      "source": [
        "### 3.2 Multidimensional\n",
        "利用逗號來分隔各個axis上的index，來找尋多維度陣列中的特定元素"
      ]
    },
    {
      "cell_type": "code",
      "metadata": {
        "colab": {
          "base_uri": "https://localhost:8080/"
        },
        "id": "-wrrW7SCqMis",
        "outputId": "e2d17e96-0577-4cb1-ae00-b396212b64a1"
      },
      "source": [
        "def f(x, y):\n",
        "    return 10 * x + y\n",
        "\n",
        "a = np.fromfunction(f, (5, 4), dtype=int)\n",
        "print(\"array a = \\n\",a)\n",
        "print(\"--------------\")\n",
        "print(\"a[2, 3] = \",a[2, 3])\n",
        "print(\"--------------\")\n",
        "print(\"a[0:5, 1] = \",a[0:5, 1])# each row in the second column of a\n",
        "print(\"--------------\")\n",
        "print(\"a[:, 1] = \",a[:, 1])# equivalent to the previous example\n",
        "print(\"--------------\")\n",
        "print(\"a[1:3, :] = \\n\",a[1:3, :])# each column in the second and third row of a\n",
        "print(\"--------------\")\n",
        "print(\"a[-1] = \\n\",a[-1])# the last row. Equivalent to a[-1, :]"
      ],
      "execution_count": null,
      "outputs": [
        {
          "output_type": "stream",
          "name": "stdout",
          "text": [
            "array a = \n",
            " [[ 0  1  2  3]\n",
            " [10 11 12 13]\n",
            " [20 21 22 23]\n",
            " [30 31 32 33]\n",
            " [40 41 42 43]]\n",
            "--------------\n",
            "a[2, 3] =  23\n",
            "--------------\n",
            "a[0:5, 1] =  [ 1 11 21 31 41]\n",
            "--------------\n",
            "a[:, 1] =  [ 1 11 21 31 41]\n",
            "--------------\n",
            "a[1:3, :] = \n",
            " [[10 11 12 13]\n",
            " [20 21 22 23]]\n",
            "--------------\n",
            "a[-1] = \n",
            " [40 41 42 43]\n"
          ]
        }
      ]
    },
    {
      "cell_type": "markdown",
      "metadata": {
        "id": "4UOSHiwPH2Yx"
      },
      "source": [
        "##4.Shape Manipulation"
      ]
    },
    {
      "cell_type": "markdown",
      "metadata": {
        "id": "0pAfvhrPxmJW"
      },
      "source": [
        "### 4.1 Changing the shape of an array\n",
        "陣列的shape可以透過許多指令來改變，以下列出三中常見的function。\n",
        "* `ndarray.ravel()`\n",
        "* `ndarray.reshape()`\n",
        "* `ndarray.T`\n",
        "\n",
        "值得注意的是，以上三種function均回傳修改後的陣列，如果要真正修改陣列，需要使用下列function\n",
        "* `ndarray.resize()`"
      ]
    },
    {
      "cell_type": "code",
      "metadata": {
        "colab": {
          "base_uri": "https://localhost:8080/"
        },
        "id": "Fgi1tfafxu4H",
        "outputId": "464fa89c-4100-4119-8e4d-82efc1797f39"
      },
      "source": [
        "a = np.floor(10 * np.random.rand(3, 4))\n",
        "print(\"array a = \\n\",a)\n",
        "print(\"--------------\")\n",
        "print(\"a.ravel() = \\n\",a.ravel())# returns the array, flattened\n",
        "print(\"--------------\")\n",
        "print(\"a.reshape(6, 2) = \\n\",a.reshape(6, 2))# returns the array with a modified shape\n",
        "print(\"--------------\")\n",
        "print(\"a.T = \\n\",a.T)# returns the array, transposed\n",
        "print(\"--------------\")\n",
        "print(\"a.T.shape = \",a.T.shape)\n",
        "print(\"--------------\")\n",
        "print(\"a.shape = \",a.shape)\n",
        "print(\"--------------\")\n",
        "a.resize((2, 6))\n",
        "print(\"array a = \\n\",a)"
      ],
      "execution_count": null,
      "outputs": [
        {
          "output_type": "stream",
          "name": "stdout",
          "text": [
            "array a = \n",
            " [[2. 2. 2. 2.]\n",
            " [7. 9. 8. 1.]\n",
            " [9. 4. 4. 0.]]\n",
            "--------------\n",
            "a.ravel() = \n",
            " [2. 2. 2. 2. 7. 9. 8. 1. 9. 4. 4. 0.]\n",
            "--------------\n",
            "a.reshape(6, 2) = \n",
            " [[2. 2.]\n",
            " [2. 2.]\n",
            " [7. 9.]\n",
            " [8. 1.]\n",
            " [9. 4.]\n",
            " [4. 0.]]\n",
            "--------------\n",
            "a.T = \n",
            " [[2. 7. 9.]\n",
            " [2. 9. 4.]\n",
            " [2. 8. 4.]\n",
            " [2. 1. 0.]]\n",
            "--------------\n",
            "a.T.shape =  (4, 3)\n",
            "--------------\n",
            "a.shape =  (3, 4)\n",
            "--------------\n",
            "array a = \n",
            " [[2. 2. 2. 2. 7. 9.]\n",
            " [8. 1. 9. 4. 4. 0.]]\n"
          ]
        }
      ]
    },
    {
      "cell_type": "markdown",
      "metadata": {
        "id": "SzQHhwIhBbVi"
      },
      "source": [
        "### 4.2 Stacking together different arrays\n",
        "透過以下不同function可以沿著不同軸向堆疊陣列\n",
        "* `numpy.vstack()`\n",
        "* `numpy.hstack()`\n"
      ]
    },
    {
      "cell_type": "code",
      "metadata": {
        "colab": {
          "base_uri": "https://localhost:8080/"
        },
        "id": "5UEKCJWmU1Hm",
        "outputId": "6034b301-7540-42c0-ffb8-7359a45ba0e6"
      },
      "source": [
        "a = np.floor(10 * np.random.rand(2, 2))\n",
        "b = np.floor(10 * np.random.rand(2, 2))\n",
        "print(\"array a = \\n\",a)\n",
        "print(\"--------------\")\n",
        "print(\"array b = \\n\",b)\n",
        "print(\"--------------\")\n",
        "print(\"np.vstack((a, b)) = \\n\",np.vstack((a, b)))\n",
        "print(\"--------------\")\n",
        "print(\"np.hstack((a, b)) = \\n\",np.hstack((a, b)))\n",
        "print(\"--------------\")"
      ],
      "execution_count": null,
      "outputs": [
        {
          "output_type": "stream",
          "name": "stdout",
          "text": [
            "array a = \n",
            " [[3. 0.]\n",
            " [1. 4.]]\n",
            "--------------\n",
            "array b = \n",
            " [[7. 6.]\n",
            " [1. 4.]]\n",
            "--------------\n",
            "np.vstack((a, b)) = \n",
            " [[3. 0.]\n",
            " [1. 4.]\n",
            " [7. 6.]\n",
            " [1. 4.]]\n",
            "--------------\n",
            "np.hstack((a, b)) = \n",
            " [[3. 0. 7. 6.]\n",
            " [1. 4. 1. 4.]]\n",
            "--------------\n"
          ]
        }
      ]
    },
    {
      "cell_type": "markdown",
      "metadata": {
        "id": "fHr5oecbU8-Z"
      },
      "source": [
        "### 4.3 Splitting one array into several smaller ones\n",
        "可以使用以下的function 來對陣列做縱向切割\n",
        "* `ndarray.hsplit()`"
      ]
    },
    {
      "cell_type": "code",
      "metadata": {
        "colab": {
          "base_uri": "https://localhost:8080/"
        },
        "id": "P1xwX3CMU_-D",
        "outputId": "f6dcfe0a-22d5-4e30-ac83-50edf71975eb"
      },
      "source": [
        "a = np.floor(10 * np.random.rand(2, 12))\n",
        "print(\"array a = \\n\",a)\n",
        "print(\"--------------\")\n",
        "print(\"np.hsplit(a, 3 = \\n\",np.hsplit(a, 3))# Split `a` into 3\n",
        "print(\"--------------\")\n",
        "print(\"np.hsplit(a, (3, 4)) = \\n\",np.hsplit(a, (3, 4)))# Split `a` after the third and the fourth column\n",
        "print(\"--------------\")"
      ],
      "execution_count": null,
      "outputs": [
        {
          "output_type": "stream",
          "name": "stdout",
          "text": [
            "array a = \n",
            " [[6. 6. 2. 1. 3. 3. 6. 2. 3. 1. 5. 8.]\n",
            " [0. 2. 4. 9. 9. 7. 9. 8. 4. 3. 3. 2.]]\n",
            "--------------\n",
            "np.hsplit(a, 3 = \n",
            " [array([[6., 6., 2., 1.],\n",
            "       [0., 2., 4., 9.]]), array([[3., 3., 6., 2.],\n",
            "       [9., 7., 9., 8.]]), array([[3., 1., 5., 8.],\n",
            "       [4., 3., 3., 2.]])]\n",
            "--------------\n",
            "np.hsplit(a, (3, 4)) = \n",
            " [array([[6., 6., 2.],\n",
            "       [0., 2., 4.]]), array([[1.],\n",
            "       [9.]]), array([[3., 3., 6., 2., 3., 1., 5., 8.],\n",
            "       [9., 7., 9., 8., 4., 3., 3., 2.]])]\n",
            "--------------\n"
          ]
        }
      ]
    },
    {
      "cell_type": "markdown",
      "metadata": {
        "id": "ufA6wcAXTLo6"
      },
      "source": [
        "# **Pandas**\n",
        "Pandas是一個Python的package，提供快速、靈活應用的資料結構，讓資料之間的關係變得直觀，成為Python中實用的數據分析工具。\n",
        "\n",
        "To Learn More : https://pandas.pydata.org/pandas-docs/stable/user_guide/index.html#"
      ]
    },
    {
      "cell_type": "markdown",
      "metadata": {
        "id": "CKAlavPLAtBP"
      },
      "source": [
        "## 1. Create a DataFrame\n",
        "DataFrame可以用來處理結構化的資料，善於處理多維度、欄位的資料，不僅能夠透過Dictionary及Array建立，也能透過讀取外部資料後建立(e.g. csv file)。\n"
      ]
    },
    {
      "cell_type": "markdown",
      "metadata": {
        "id": "Xrxi7PF4ODtI"
      },
      "source": [
        "### 1.1 Use Dictionary to create a DataFrame"
      ]
    },
    {
      "cell_type": "code",
      "metadata": {
        "colab": {
          "base_uri": "https://localhost:8080/"
        },
        "id": "O3lc-eU-OBZF",
        "outputId": "3f944c5c-4426-4c4a-9968-9915a872ddc3"
      },
      "source": [
        "import pandas as pd\n",
        "grades = {\n",
        "    \"name\": [\"Duck\", \"Dog\", \"Cow\", \"Cat\"],\n",
        "    \"math\": [35, 89, 73, 91],\n",
        "    \"chinese\": [93, 45, 31, 87]\n",
        "}\n",
        "df_dict = pd.DataFrame(grades)\n",
        "print(df_dict)\n"
      ],
      "execution_count": null,
      "outputs": [
        {
          "output_type": "stream",
          "name": "stdout",
          "text": [
            "   name  math  chinese\n",
            "0  Duck    35       93\n",
            "1   Dog    89       45\n",
            "2   Cow    73       31\n",
            "3   Cat    91       87\n"
          ]
        }
      ]
    },
    {
      "cell_type": "markdown",
      "metadata": {
        "id": "FrcITKpuOLGo"
      },
      "source": [
        "### 1.2 Use Array to create a DataFrame"
      ]
    },
    {
      "cell_type": "code",
      "metadata": {
        "colab": {
          "base_uri": "https://localhost:8080/"
        },
        "id": "ke61UBlsOM5d",
        "outputId": "9f47a2c1-eb73-4c46-dc57-3afd16e76978"
      },
      "source": [
        "grades = [ [\"Duck\", 35, 93], [\"Dog\", 89, 45],\n",
        "       [\"Cow\", 73, 31], [\"Cat\", 91, 87] ]\n",
        "df_arr = pd.DataFrame(grades)\n",
        "print(df_arr)"
      ],
      "execution_count": null,
      "outputs": [
        {
          "output_type": "stream",
          "name": "stdout",
          "text": [
            "      0   1   2\n",
            "0  Duck  35  93\n",
            "1   Dog  89  45\n",
            "2   Cow  73  31\n",
            "3   Cat  91  87\n"
          ]
        }
      ]
    },
    {
      "cell_type": "markdown",
      "metadata": {
        "id": "RJSpcxnOOO1X"
      },
      "source": [
        "### 1.3 Use CSV file to create a DataFrame"
      ]
    },
    {
      "cell_type": "code",
      "metadata": {
        "colab": {
          "base_uri": "https://localhost:8080/"
        },
        "id": "pNmfeZNEOReF",
        "outputId": "60493707-5b3b-4f70-ed80-c86ddde5f748"
      },
      "source": [
        "# For example, download a csv file online\n",
        "df_csv = pd.read_csv('http://bit.ly/kaggletrain')\n",
        "print(df_csv)"
      ],
      "execution_count": null,
      "outputs": [
        {
          "output_type": "stream",
          "name": "stdout",
          "text": [
            "     PassengerId  Survived  Pclass  ...     Fare Cabin  Embarked\n",
            "0              1         0       3  ...   7.2500   NaN         S\n",
            "1              2         1       1  ...  71.2833   C85         C\n",
            "2              3         1       3  ...   7.9250   NaN         S\n",
            "3              4         1       1  ...  53.1000  C123         S\n",
            "4              5         0       3  ...   8.0500   NaN         S\n",
            "..           ...       ...     ...  ...      ...   ...       ...\n",
            "886          887         0       2  ...  13.0000   NaN         S\n",
            "887          888         1       1  ...  30.0000   B42         S\n",
            "888          889         0       3  ...  23.4500   NaN         S\n",
            "889          890         1       1  ...  30.0000  C148         C\n",
            "890          891         0       3  ...   7.7500   NaN         Q\n",
            "\n",
            "[891 rows x 12 columns]\n"
          ]
        }
      ]
    },
    {
      "cell_type": "markdown",
      "metadata": {
        "id": "huOgas-DOTVB"
      },
      "source": [
        "## 2. DataFrame Operations\n",
        "以下列出DataFrame的一些基本操作，[更多詳細資料](https://pandas.pydata.org/docs/reference/api/pandas.DataFrame.html)。"
      ]
    },
    {
      "cell_type": "markdown",
      "metadata": {
        "id": "RCN7bO-NOXy4"
      },
      "source": [
        "### 2.1 `.shape`\n",
        "* 回傳df列數與欄數"
      ]
    },
    {
      "cell_type": "code",
      "metadata": {
        "colab": {
          "base_uri": "https://localhost:8080/"
        },
        "id": "FiGK8cqYOU6o",
        "outputId": "e1bb91af-f2f3-4d6f-ca9d-e278f687fcee"
      },
      "source": [
        "print(df_dict.shape)\n",
        "print(df_arr.shape)\n",
        "print(df_csv.shape)"
      ],
      "execution_count": null,
      "outputs": [
        {
          "output_type": "stream",
          "name": "stdout",
          "text": [
            "(4, 3)\n",
            "(4, 3)\n",
            "(891, 12)\n"
          ]
        }
      ]
    },
    {
      "cell_type": "markdown",
      "metadata": {
        "id": "dYomT4ykOaQZ"
      },
      "source": [
        "### 2.2 `.index/ .columns`\n",
        "* 可以改變及回傳index、columns的名稱"
      ]
    },
    {
      "cell_type": "code",
      "metadata": {
        "colab": {
          "base_uri": "https://localhost:8080/"
        },
        "id": "d3qLpbAXOcje",
        "outputId": "82a030ce-de74-49b8-ce7c-4c4b4d13bcb2"
      },
      "source": [
        "grades = [ [\"Duck\", 35, 93], [\"Dog\", 89, 45],\n",
        "       [\"Cow\", 73, 31], [\"Cat\", 91, 87] ]\n",
        "df_arr = pd.DataFrame(grades)\n",
        "print(df_arr)\n",
        "print(df_arr.index)\n",
        "print(df_arr.columns)\n",
        "print(\"----\")\n",
        "\n",
        "# Add label (index and columns)\n",
        "df_arr.index = [\"student1\", \"student2\", \"student3\", \"student4\"]\n",
        "df_arr.columns = [\"name\", \"math\", \"chinese\"]\n",
        "print(df_arr)\n",
        "print(df_arr.index)\n",
        "print(df_arr.columns)"
      ],
      "execution_count": null,
      "outputs": [
        {
          "output_type": "stream",
          "name": "stdout",
          "text": [
            "      0   1   2\n",
            "0  Duck  35  93\n",
            "1   Dog  89  45\n",
            "2   Cow  73  31\n",
            "3   Cat  91  87\n",
            "RangeIndex(start=0, stop=4, step=1)\n",
            "RangeIndex(start=0, stop=3, step=1)\n",
            "----\n",
            "          name  math  chinese\n",
            "student1  Duck    35       93\n",
            "student2   Dog    89       45\n",
            "student3   Cow    73       31\n",
            "student4   Cat    91       87\n",
            "Index(['student1', 'student2', 'student3', 'student4'], dtype='object')\n",
            "Index(['name', 'math', 'chinese'], dtype='object')\n"
          ]
        }
      ]
    },
    {
      "cell_type": "markdown",
      "metadata": {
        "id": "7KT5itlyeiqk"
      },
      "source": [
        "### 2.3 `.head()/ .tail()`\n",
        "* df.head(n) 能夠回傳前n筆資料\n",
        "* df.tail(n) 能夠回傳後n筆資料"
      ]
    },
    {
      "cell_type": "code",
      "metadata": {
        "colab": {
          "base_uri": "https://localhost:8080/"
        },
        "id": "lMaDoXJCelqD",
        "outputId": "ea1dae4f-7c6c-4ad1-f7a4-826eaf5a6f29"
      },
      "source": [
        "print(df_dict.head(2))\n",
        "print(df_dict.tail(2))\n",
        "print(\"----\")\n",
        "\n",
        "print(df_csv.head(5))\n",
        "print(df_csv.tail(5))"
      ],
      "execution_count": null,
      "outputs": [
        {
          "output_type": "stream",
          "name": "stdout",
          "text": [
            "   name  math  chinese\n",
            "0  Duck    35       93\n",
            "1   Dog    89       45\n",
            "  name  math  chinese\n",
            "2  Cow    73       31\n",
            "3  Cat    91       87\n",
            "----\n",
            "   PassengerId  Survived  Pclass  ...     Fare Cabin  Embarked\n",
            "0            1         0       3  ...   7.2500   NaN         S\n",
            "1            2         1       1  ...  71.2833   C85         C\n",
            "2            3         1       3  ...   7.9250   NaN         S\n",
            "3            4         1       1  ...  53.1000  C123         S\n",
            "4            5         0       3  ...   8.0500   NaN         S\n",
            "\n",
            "[5 rows x 12 columns]\n",
            "     PassengerId  Survived  Pclass  ...   Fare Cabin  Embarked\n",
            "886          887         0       2  ...  13.00   NaN         S\n",
            "887          888         1       1  ...  30.00   B42         S\n",
            "888          889         0       3  ...  23.45   NaN         S\n",
            "889          890         1       1  ...  30.00  C148         C\n",
            "890          891         0       3  ...   7.75   NaN         Q\n",
            "\n",
            "[5 rows x 12 columns]\n"
          ]
        }
      ]
    },
    {
      "cell_type": "markdown",
      "metadata": {
        "id": "eCyUMMOaeorg"
      },
      "source": [
        "### 2.4 `.describe()`\n",
        "* 生成描述性統計數據，總結數據集分佈的集中趨勢，分散和形狀。"
      ]
    },
    {
      "cell_type": "code",
      "metadata": {
        "colab": {
          "base_uri": "https://localhost:8080/"
        },
        "id": "GlHG_ixNeq5m",
        "outputId": "eb47483c-b460-4e87-ab1b-3043f39035f4"
      },
      "source": [
        "# Example 1\n",
        "df = pd.DataFrame({'categorical': pd.Categorical(['d','e','f']),\n",
        "                   'numeric': [1, 2, 3],\n",
        "                   'object': ['a', 'b', 'c']\n",
        "                  })\n",
        "# Only return numeric fields\n",
        "print(df.describe()) # OR print(df.describe(include=[np.number]))\n",
        "\n",
        "# Describing all columns of a DataFrame regardless of data type.\n",
        "print(df.describe(include='all'))\n",
        "\n",
        "print(\"----\")\n",
        "\n",
        "# Example 2\n",
        "print(df_csv.describe())"
      ],
      "execution_count": null,
      "outputs": [
        {
          "output_type": "stream",
          "name": "stdout",
          "text": [
            "       numeric\n",
            "count      3.0\n",
            "mean       2.0\n",
            "std        1.0\n",
            "min        1.0\n",
            "25%        1.5\n",
            "50%        2.0\n",
            "75%        2.5\n",
            "max        3.0\n",
            "       categorical  numeric object\n",
            "count            3      3.0      3\n",
            "unique           3      NaN      3\n",
            "top              f      NaN      c\n",
            "freq             1      NaN      1\n",
            "mean           NaN      2.0    NaN\n",
            "std            NaN      1.0    NaN\n",
            "min            NaN      1.0    NaN\n",
            "25%            NaN      1.5    NaN\n",
            "50%            NaN      2.0    NaN\n",
            "75%            NaN      2.5    NaN\n",
            "max            NaN      3.0    NaN\n",
            "----\n",
            "       PassengerId    Survived      Pclass  ...       SibSp       Parch        Fare\n",
            "count   891.000000  891.000000  891.000000  ...  891.000000  891.000000  891.000000\n",
            "mean    446.000000    0.383838    2.308642  ...    0.523008    0.381594   32.204208\n",
            "std     257.353842    0.486592    0.836071  ...    1.102743    0.806057   49.693429\n",
            "min       1.000000    0.000000    1.000000  ...    0.000000    0.000000    0.000000\n",
            "25%     223.500000    0.000000    2.000000  ...    0.000000    0.000000    7.910400\n",
            "50%     446.000000    0.000000    3.000000  ...    0.000000    0.000000   14.454200\n",
            "75%     668.500000    1.000000    3.000000  ...    1.000000    0.000000   31.000000\n",
            "max     891.000000    1.000000    3.000000  ...    8.000000    6.000000  512.329200\n",
            "\n",
            "[8 rows x 7 columns]\n"
          ]
        }
      ]
    },
    {
      "cell_type": "markdown",
      "metadata": {
        "id": "aJ2KjJKGesiO"
      },
      "source": [
        "### 2.5 `.info()`\n",
        "* 進行數據分析時為了快速瀏覽dataset，常會使用.info()來獲取DataFrame的簡要摘要(e.g. 檢視索引、資料型態和記憶體資訊)。"
      ]
    },
    {
      "cell_type": "code",
      "metadata": {
        "colab": {
          "base_uri": "https://localhost:8080/"
        },
        "id": "GobBNbvLewsH",
        "outputId": "450b7d28-f17d-4fd1-c062-6222ad96e7fa"
      },
      "source": [
        "print(df_csv.info())"
      ],
      "execution_count": null,
      "outputs": [
        {
          "output_type": "stream",
          "name": "stdout",
          "text": [
            "<class 'pandas.core.frame.DataFrame'>\n",
            "RangeIndex: 891 entries, 0 to 890\n",
            "Data columns (total 12 columns):\n",
            " #   Column       Non-Null Count  Dtype  \n",
            "---  ------       --------------  -----  \n",
            " 0   PassengerId  891 non-null    int64  \n",
            " 1   Survived     891 non-null    int64  \n",
            " 2   Pclass       891 non-null    int64  \n",
            " 3   Name         891 non-null    object \n",
            " 4   Sex          891 non-null    object \n",
            " 5   Age          714 non-null    float64\n",
            " 6   SibSp        891 non-null    int64  \n",
            " 7   Parch        891 non-null    int64  \n",
            " 8   Ticket       891 non-null    object \n",
            " 9   Fare         891 non-null    float64\n",
            " 10  Cabin        204 non-null    object \n",
            " 11  Embarked     889 non-null    object \n",
            "dtypes: float64(2), int64(5), object(5)\n",
            "memory usage: 83.7+ KB\n",
            "None\n"
          ]
        }
      ]
    },
    {
      "cell_type": "markdown",
      "metadata": {
        "id": "hexJ_046ey_m"
      },
      "source": [
        "### 2.6 `[]/ .at[]/ .iat[]`\n",
        "* 在中括號輸入指定的「欄位名稱」或「資料索引值」，來獲取需要的資料集\n",
        "* df[col]: 以Series形式回傳單一欄位資料\n",
        "* df[[col]]: 以DataFrame形式回傳單一欄位資料\n",
        "* df[[col1, col2]]: 以DataFrame形式回傳多個欄位資料\n",
        "* df[i:j]: 取得索引值i:j-1的資料\n",
        "\n",
        "* df.at[index, \"col_name\"]: 取得指定index/欄位名稱的單一值\n",
        "* df.iat[index, col]: 取得指定index/column的單一值"
      ]
    },
    {
      "cell_type": "code",
      "metadata": {
        "colab": {
          "base_uri": "https://localhost:8080/"
        },
        "id": "rmnMn-BBe2Yk",
        "outputId": "6b908ad1-f49f-4150-ce32-36525cf44c54"
      },
      "source": [
        "# Example []\n",
        "print(df_dict[\"name\"])\n",
        "print(\"----\")\n",
        "print(df_dict[[\"name\"]])\n",
        "print(\"----\")\n",
        "print(df_dict[[\"math\",\"chinese\"]])\n",
        "print(\"----\")\n",
        "print(df_dict[0:2])\n",
        "print(\"----\")\n",
        "\n",
        "# Example .at[]\n",
        "print(df_dict)\n",
        "print(\"----\")\n",
        "print(df_dict.at[3,\"math\"])\n",
        "print(\"----\")\n",
        "\n",
        "# Example .iat[]\n",
        "print(df_dict.iat[3,1])"
      ],
      "execution_count": null,
      "outputs": [
        {
          "output_type": "stream",
          "name": "stdout",
          "text": [
            "0    Duck\n",
            "1     Dog\n",
            "2     Cow\n",
            "3     Cat\n",
            "Name: name, dtype: object\n",
            "----\n",
            "   name\n",
            "0  Duck\n",
            "1   Dog\n",
            "2   Cow\n",
            "3   Cat\n",
            "----\n",
            "   math  chinese\n",
            "0    35       93\n",
            "1    89       45\n",
            "2    73       31\n",
            "3    91       87\n",
            "----\n",
            "   name  math  chinese\n",
            "0  Duck    35       93\n",
            "1   Dog    89       45\n",
            "----\n",
            "   name  math  chinese\n",
            "0  Duck    35       93\n",
            "1   Dog    89       45\n",
            "2   Cow    73       31\n",
            "3   Cat    91       87\n",
            "----\n",
            "91\n",
            "----\n",
            "91\n"
          ]
        }
      ]
    },
    {
      "cell_type": "markdown",
      "metadata": {
        "id": "EHKHHhOgwpsf"
      },
      "source": [
        "### 2.7 `.loc`\n",
        "* .loc: 利用行標籤和列標籤（x_label、y_label）進行索引"
      ]
    },
    {
      "cell_type": "code",
      "metadata": {
        "colab": {
          "base_uri": "https://localhost:8080/"
        },
        "id": "Nv6LQVARwr5u",
        "outputId": "ef4b06de-3b61-4806-f164-3ec1264bc6f9"
      },
      "source": [
        "print(df_dict)\n",
        "print(\"----\")\n",
        "print(df_dict.loc[3,'math'])\n",
        "print(\"----\")\n",
        "print(df_dict.loc[0:2,:])\n",
        "print(\"----\")\n",
        "print(df_dict.loc[:,'math':'chinese'])\n",
        "print(\"----\")\n",
        "print(df_dict.loc[0:1,'name':'math'])\n",
        "print(\"----\")\n",
        "print(df_dict.loc[[0,2],['name','chinese']])"
      ],
      "execution_count": null,
      "outputs": [
        {
          "output_type": "stream",
          "name": "stdout",
          "text": [
            "   name  math  chinese\n",
            "0  Duck    35       93\n",
            "1   Dog    89       45\n",
            "2   Cow    73       31\n",
            "3   Cat    91       87\n",
            "----\n",
            "91\n",
            "----\n",
            "   name  math  chinese\n",
            "0  Duck    35       93\n",
            "1   Dog    89       45\n",
            "2   Cow    73       31\n",
            "----\n",
            "   math  chinese\n",
            "0    35       93\n",
            "1    89       45\n",
            "2    73       31\n",
            "3    91       87\n",
            "----\n",
            "   name  math\n",
            "0  Duck    35\n",
            "1   Dog    89\n",
            "----\n",
            "   name  chinese\n",
            "0  Duck       93\n",
            "2   Cow       31\n"
          ]
        }
      ]
    },
    {
      "cell_type": "markdown",
      "metadata": {
        "id": "0C9-V2rLwu3W"
      },
      "source": [
        "### 2.8 `.iloc`\n",
        "* .iloc: 利用行索引和列索引（index，columns）查找資料且都是從0開始\n",
        "* 適用於label較長的資料集"
      ]
    },
    {
      "cell_type": "code",
      "metadata": {
        "colab": {
          "base_uri": "https://localhost:8080/"
        },
        "id": "gKY_E1w_wwMe",
        "outputId": "1d3da212-e470-47f2-e272-23ae7b6ba43f"
      },
      "source": [
        "print(df_dict)\n",
        "print(\"----\")\n",
        "print(df_dict.iloc[3,1])\n",
        "print(\"----\")\n",
        "print(df_dict.iloc[0:2,:])\n",
        "print(\"----\")\n",
        "print(df_dict.iloc[:,0:2])\n",
        "print(\"----\")\n",
        "print(df_dict.iloc[0:2,0:2])\n",
        "print(\"----\")\n",
        "print(df_dict.iloc[[0,2],[0,2]])"
      ],
      "execution_count": null,
      "outputs": [
        {
          "output_type": "stream",
          "name": "stdout",
          "text": [
            "   name  math  chinese\n",
            "0  Duck    35       93\n",
            "1   Dog    89       45\n",
            "2   Cow    73       31\n",
            "3   Cat    91       87\n",
            "----\n",
            "91\n",
            "----\n",
            "   name  math  chinese\n",
            "0  Duck    35       93\n",
            "1   Dog    89       45\n",
            "----\n",
            "   name  math\n",
            "0  Duck    35\n",
            "1   Dog    89\n",
            "2   Cow    73\n",
            "3   Cat    91\n",
            "----\n",
            "   name  math\n",
            "0  Duck    35\n",
            "1   Dog    89\n",
            "----\n",
            "   name  chinese\n",
            "0  Duck       93\n",
            "2   Cow       31\n"
          ]
        }
      ]
    },
    {
      "cell_type": "markdown",
      "metadata": {
        "id": "DcLG74yRwzrh"
      },
      "source": [
        "## 3. Saving the DataFrame\n",
        "在處理完數據集後，我們需要將處理後的數據保存為某種檔案格式，(e.g csv、excel)或其它格式。"
      ]
    },
    {
      "cell_type": "code",
      "metadata": {
        "id": "jIpIDZyJw0Vf"
      },
      "source": [
        "df_dict.to_csv('data.csv', index=False)\n",
        "# OR df_dict.to_excel('data.xls', index=False)"
      ],
      "execution_count": null,
      "outputs": []
    },
    {
      "cell_type": "markdown",
      "metadata": {
        "id": "ZOd7f5d5tDxO"
      },
      "source": [
        "# 其他常用套件：\n",
        "\n",
        "\n",
        "*   [matplotlib](https://matplotlib.org/stable/gallery/index.html) : Visualization with Python\n",
        "*   [scipy](https://scipy.org/getting-started.html) : Scientific Computing Tools for Python\n",
        "*   [scikit-learn](https://scikit-learn.org/stable/user_guide.html) : Machine Learning in Python\n",
        "\n",
        "\n"
      ]
    },
    {
      "cell_type": "markdown",
      "metadata": {
        "id": "BETHGeSwJMAW"
      },
      "source": [
        "## **Homework**"
      ]
    },
    {
      "cell_type": "markdown",
      "metadata": {
        "id": "1Q0johaKd0WW"
      },
      "source": [
        "### **(1) A Phone Book**\n",
        "Write a problem that allows user to store and search contact information.\n",
        "Each entry of the contact information should contain the `name` and `phone`. As an example using `dict`, it would look like\n",
        "\n",
        "`\n",
        "{\n",
        "  \"name\": \"John\",\n",
        "  \"phone\": \"0987-654321,\n",
        "}\n",
        "`\n",
        "<br/><br/>\n",
        "You may use a `list` of `dict` as data structure of the phone book, or if you prefer, any other suitable data container to implement the phone book.\n",
        "As an example using `list` of `dict`, it would look like\n",
        "\n",
        "`\n",
        "[{\n",
        "  \"name\": \"John\",\n",
        "  \"phone\": \"0987-654321,\n",
        "}, {\n",
        "  \"name\": \"Andrew\",\n",
        "  \"phone\": \"0912-343531,\n",
        "}, {\n",
        "  \"name\": \"Catherine\",\n",
        "  \"phone\": \"0956-396471,\n",
        "}, ... ]\n",
        "`\n",
        "<br/><br/>\n",
        "**Requirements**\n",
        "1. Implement a function `add(name, phone)` which allows user to add an entry to the phone book.\n",
        "1. Implement a function `find(name=\"\", phone=\"\")` which allows user to search the phone book ***either*** by \"name\" or \"phone\".\n",
        "1. Implement a function `print_all()` which allows user to print the phone book. For each line, print one entry in the format of `\"name / phone number\"`.\n",
        "\n"
      ]
    },
    {
      "cell_type": "code",
      "metadata": {
        "id": "M7EqyFu_Ncrj",
        "colab": {
          "base_uri": "https://localhost:8080/"
        },
        "outputId": "39826f5f-a02f-4f61-e2c3-9a27120a28fa"
      },
      "source": [
        "PhoneBook_list = [{\"name\": \"John\", \"phone\": \"0987-654321\", },]\n",
        "def add(name, phone):\n",
        "  new_value={\"name\": name, \"phone\":  phone }\n",
        "  PhoneBook_list.append(new_value)\n",
        "  print(\"PhoneBook_list:\", PhoneBook_list)\n",
        "\n",
        "add(\"Andrew\",\"0912-343531\")\n",
        "add(\"Catherine\",\"0956-396471\")\n",
        "\n",
        "\n",
        "def find(name=\"\", phone=\"\"):\n",
        "  if name:\n",
        "    print(next(item for item in PhoneBook_list if item[\"name\"] == name))\n",
        "  if phone:\n",
        "    print(next(item for item in PhoneBook_list if item[\"phone\"] == phone))\n",
        "\n",
        "find(name=\"John\")\n",
        "find(phone=\"0912-343531\")\n",
        "\n",
        "def print_all():\n",
        "  if PhoneBook_list:\n",
        "    for contact in PhoneBook_list:\n",
        "      print(contact[\"name\"], \"/\", contact[\"phone\"])\n",
        "  else:\n",
        "    print(\"Phone book is empty.\")\n",
        "\n",
        "print_all()"
      ],
      "execution_count": null,
      "outputs": [
        {
          "output_type": "stream",
          "name": "stdout",
          "text": [
            "PhoneBook_list: [{'name': 'John', 'phone': '0987-654321'}, {'name': 'Andrew', 'phone': '0912-343531'}]\n",
            "PhoneBook_list: [{'name': 'John', 'phone': '0987-654321'}, {'name': 'Andrew', 'phone': '0912-343531'}, {'name': 'Catherine', 'phone': '0956-396471'}]\n",
            "{'name': 'John', 'phone': '0987-654321'}\n",
            "{'name': 'Andrew', 'phone': '0912-343531'}\n",
            "John / 0987-654321\n",
            "Andrew / 0912-343531\n",
            "Catherine / 0956-396471\n"
          ]
        }
      ]
    },
    {
      "cell_type": "code",
      "source": [
        "PhoneBook = {\"name\": \"John\", \"phone\": \"0987-654321\"}\n",
        "#new_value={0: \"name\", 1:  \"phone\" }\n",
        "PhoneBook[\"name\"]=\"Andrew\"\n",
        "PhoneBook[\"phone\"]=\"0912-343531\"\n",
        "print(PhoneBook)"
      ],
      "metadata": {
        "colab": {
          "base_uri": "https://localhost:8080/"
        },
        "id": "KEstdyuK8bYJ",
        "outputId": "8f98eaed-d2b5-4173-e3e9-5731eb5b4578"
      },
      "execution_count": null,
      "outputs": [
        {
          "output_type": "stream",
          "name": "stdout",
          "text": [
            "{'name': 'Andrew', 'phone': '0912-343531'}\n"
          ]
        }
      ]
    },
    {
      "cell_type": "markdown",
      "metadata": {
        "id": "aoYeAQVrJSL2"
      },
      "source": [
        "### **(2) Find a missing number from a list**\n",
        "Use a function and write a python program to find a missing number from a list.\n",
        "\n",
        "Ex. `Input: [1, 2, 3, 5, 6, 7]`, `Output: 4`\n"
      ]
    },
    {
      "cell_type": "code",
      "metadata": {
        "id": "CmKCx27oNdTG",
        "colab": {
          "base_uri": "https://localhost:8080/"
        },
        "outputId": "a6164f70-6f9c-484a-93d5-6ae37eab8379"
      },
      "source": [
        "def find_missing(list):\n",
        "  for x, y in zip(list, list[1:]):\n",
        "    #print(x,y)\n",
        "    for i in range(x + 1, y):\n",
        "      if y - x > 1 :\n",
        "        return i\n",
        "\n",
        "list=[1, 2, 3, 5, 6, 7]\n",
        "print(find_missing(list))"
      ],
      "execution_count": null,
      "outputs": [
        {
          "output_type": "stream",
          "name": "stdout",
          "text": [
            "4\n"
          ]
        }
      ]
    },
    {
      "cell_type": "markdown",
      "metadata": {
        "id": "hIFJXh7EIXaZ"
      },
      "source": [
        "### **(3) Reverse a string**\n",
        "\n",
        "Write a function to reverse a string.\n",
        "\n",
        "Sample String : \"abcd4567\"\n",
        "\n",
        "Expected Output : \"7654dcba\""
      ]
    },
    {
      "cell_type": "code",
      "metadata": {
        "id": "nLwG0jXrNd7j",
        "colab": {
          "base_uri": "https://localhost:8080/"
        },
        "outputId": "36314a79-44f2-4668-9712-0111103e8458"
      },
      "source": [
        "def reverse_string():\n",
        "  n=input(\"Sample String : \")\n",
        "  print(\"Expected Output:\",n[::-1])\n",
        "\n",
        "reverse_string()"
      ],
      "execution_count": null,
      "outputs": [
        {
          "output_type": "stream",
          "name": "stdout",
          "text": [
            "Sample String : abcd4567\n",
            "Expected Output: 7654dcba\n"
          ]
        }
      ]
    },
    {
      "cell_type": "markdown",
      "metadata": {
        "id": "8YdQy_NhGpa1"
      },
      "source": [
        "### **(4) Calculate the harmonic sum**\n",
        "Harmonic series is inverse of a arithmetic progression. In general, the terms in a harmonic progression can be denoted as 1/a, 1/(a + d), 1/(a + 2d), 1/(a + 3d) …. 1/(a + nd).\n",
        "As Nth term of AP is given as ( a + (n – 1)d). Hence, Nth term of harmonic progression is reciprocal of Nth term of AP, which is 1/(a + (n – 1)d), where “a” is the 1st term of AP and “d” is a common difference.\n",
        "\n",
        "Example:\n",
        "\n",
        "![CodeCogsEqn.png](data:image/png;base64,iVBORw0KGgoAAAANSUhEUgAAALcAAAAlBAMAAADy7mXkAAAAMFBMVEX///8AAAAAAAAAAAAAAAAAAAAAAAAAAAAAAAAAAAAAAAAAAAAAAAAAAAAAAAAAAAAv3aB7AAAAD3RSTlMARM0yInYQiatmmbtU3e/6iv2wAAAACXBIWXMAAA7EAAAOxAGVKw4bAAAB5UlEQVRIDe2WPywDYRjGH3qOI1rMBmFglHSwcYvE2DCIhZvYkPhbBkJwEYkaGgkLE9FYxGTqbGSzWAwm8SeREEkdd9d63q+nHdqtt3zf83vf57nLm7uvBeRV1SFJS7cgClA9wuFJbehNFPr7RLgCVI+IyEkZjogIVwEUTy6Od0pjJfxnQJWx8GviqbKO5UXeMtIkiAKgeITDk/ri6wxXJnY7+StSgOrxE5SDwi+UYM0eFJYM0wsCFPT4H/eezDLkqBWAgp5K+O9U5eTKP5Z622637Wnn7hnnenbWU3uty95yNpEfkg/843Ha3av8T+7cp+BrBTnQIjz+QVHK8AFL28SAhexBUcrwXjP0gF7TG3y5xuLHj3ub4VTa3emWuxrJDQZAjwvgebTO5KVs8Tp4qTX1DyZxRGJMcMdau380mQSoxm6cc2kZ4VUmxjZrLc06UIUTWJHFqQST6BnrosMd2wVbgUEBEjJ8ZL9JtARJTf5CHxxxqwERrsdwyy2BqloMATi0qDkqw51qijqCRVwpNbQRSuQJH6WOQGHIB19H/fvfbuNk4Yb/IDSmMfa3I3jfCoOK2hfqnokAV6yrzSLHEjpuvmbrPCZjTGS4YekPoiO/DGcyn1ypmdthgJ6nWSbJJZOBq74BU4+MGZhA8tsAAAAASUVORK5CYII=)\n",
        "\n",
        "Write a function to calculate the harmonic sum of n-1.\n"
      ]
    },
    {
      "cell_type": "code",
      "metadata": {
        "id": "tg054QxuNel9",
        "colab": {
          "base_uri": "https://localhost:8080/"
        },
        "outputId": "b9ab0fb2-270b-48ac-92f5-d80f4dbb5b25"
      },
      "source": [
        "def calculate_harmonic_sum(n):\n",
        "    if n <= 0:\n",
        "        return 0\n",
        "\n",
        "    a = 1\n",
        "    d = 1\n",
        "    nth_term_ap = a + (n - 1) * d\n",
        "    nth_term_hp = 1 / nth_term_ap\n",
        "\n",
        "    harmonic_sum = 0\n",
        "    for i in range(n):\n",
        "        term_hp = 1 / (a + i * d)\n",
        "        harmonic_sum += term_hp\n",
        "\n",
        "    return harmonic_sum\n",
        "\n",
        "n = 5\n",
        "sum_result = calculate_harmonic_sum(n)\n",
        "print(\"Harmonic sum of\", n-1, \"terms:\", sum_result)"
      ],
      "execution_count": null,
      "outputs": [
        {
          "output_type": "stream",
          "name": "stdout",
          "text": [
            "Harmonic sum of 4 terms: 2.283333333333333\n"
          ]
        }
      ]
    }
  ]
}